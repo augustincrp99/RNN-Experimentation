{
  "nbformat": 4,
  "nbformat_minor": 0,
  "metadata": {
    "colab": {
      "provenance": []
    },
    "kernelspec": {
      "name": "python3",
      "display_name": "Python 3"
    },
    "language_info": {
      "name": "python"
    }
  },
  "cells": [
    {
      "cell_type": "markdown",
      "source": [
        "# **CC6204 - Deep Learning**\n",
        "\n",
        "## **Predicción de riesgo de diabetes en etapas tempranas**\n",
        "\n",
        "En esta tarea vas a desarrollar un modelo de aprendizaje que sea capaz de  determinar si una persona tiene riesgo de paceder diabetes en un futuro. Los datos han sido coleccionados a través de encuestas a pacientes en el Sylhet Diabetes Hospital en Bangladesh. Los datos han sido curados y verificados por profesionales de la salud, por lo que son confiables para crear un modelo de aprendizaje.\n",
        "\n",
        "Primero vamos a importar los paquetes necesarios para trabajar en estos datos."
      ],
      "metadata": {
        "id": "O_emFGVipW5T"
      }
    },
    {
      "cell_type": "code",
      "source": [
        "import pathlib\n",
        "\n",
        "import matplotlib.pyplot as plt\n",
        "import pandas as pd\n",
        "import numpy as np\n",
        "import time\n",
        "\n",
        "np.random.seed(1)\n"
      ],
      "metadata": {
        "id": "05yDKKyhzMMe"
      },
      "execution_count": null,
      "outputs": []
    },
    {
      "cell_type": "markdown",
      "source": [
        "## **Descarga de archivo de datos**\n",
        "Los datos están disponibles en un archivo CSV que contiene 520 muestras de 17 atributos. Los atributos son:\n",
        "\n",
        "*   Age: numérico\n",
        "*   Género: \\[Male, Female\\]\n",
        "*   Polyuria\n",
        "*   Polydipsia\n",
        "*   sudden weight loss\n",
        "*   weakness\n",
        "*   Polyphagia\n",
        "*   Genital thrush\n",
        "*   visual blurring\n",
        "*   Itching\n",
        "*   Irritability \n",
        "*   delayed healing \n",
        "*   partial paresis \n",
        "*   muscle stiffness\n",
        "*   Alopecia\n",
        "*   Obesity\n",
        "*   Class: \\[Positive, Negative\\]\n",
        "\n",
        "Todos los atributos descritos sin valores tienen el conjunto \\[Yes, No\\]. \n",
        "\n",
        "En la siguiente celda de código, descargamos el archivo y lo leemos con Pandas. Finalmente, visualizamos algunos datos del conjunto.\n",
        "\n"
      ],
      "metadata": {
        "id": "VP3RKsqXr9Ni"
      }
    },
    {
      "cell_type": "code",
      "source": [
        "!wget https://archive.ics.uci.edu/ml/machine-learning-databases/00529/diabetes_data_upload.csv\n",
        "dataset_path = 'diabetes_data_upload.csv'"
      ],
      "metadata": {
        "id": "mObgujPHmuBi",
        "colab": {
          "base_uri": "https://localhost:8080/"
        },
        "outputId": "c7bf7597-2d26-4af5-f476-c243718e3141"
      },
      "execution_count": null,
      "outputs": [
        {
          "output_type": "stream",
          "name": "stdout",
          "text": [
            "--2022-09-20 22:50:31--  https://archive.ics.uci.edu/ml/machine-learning-databases/00529/diabetes_data_upload.csv\n",
            "Resolving archive.ics.uci.edu (archive.ics.uci.edu)... 128.195.10.252\n",
            "Connecting to archive.ics.uci.edu (archive.ics.uci.edu)|128.195.10.252|:443... connected.\n",
            "HTTP request sent, awaiting response... 200 OK\n",
            "Length: 34682 (34K) [application/x-httpd-php]\n",
            "Saving to: ‘diabetes_data_upload.csv.2’\n",
            "\n",
            "diabetes_data_uploa 100%[===================>]  33.87K  --.-KB/s    in 0.07s   \n",
            "\n",
            "2022-09-20 22:50:31 (497 KB/s) - ‘diabetes_data_upload.csv.2’ saved [34682/34682]\n",
            "\n"
          ]
        }
      ]
    },
    {
      "cell_type": "code",
      "source": [
        "column_names = ['Age','Gender','Polyuria','Polydipsia','sudden weight loss',\n",
        "                'weakness', 'Polyphagia', 'Genital thrush', 'visual blurring','Itching', 'Irritability', 'delayed healing',\n",
        "                'partial paresis', 'muscle stiffness', 'Alopecia', 'Obesity', 'class']\n",
        "raw_dataset = pd.read_csv(dataset_path, names=column_names,\n",
        "                      na_values = \"?\", comment='\\t',\n",
        "                      sep=\",\", skipinitialspace=True, header=1)\n",
        "\n",
        "dataset = raw_dataset.copy()\n",
        "dataset.head()\n"
      ],
      "metadata": {
        "id": "eqQvbIZuzPsb",
        "colab": {
          "base_uri": "https://localhost:8080/",
          "height": 267
        },
        "outputId": "c2b44b44-3d41-4d88-c334-32b570293ee9"
      },
      "execution_count": null,
      "outputs": [
        {
          "output_type": "execute_result",
          "data": {
            "text/plain": [
              "   Age Gender Polyuria Polydipsia sudden weight loss weakness Polyphagia  \\\n",
              "0   58   Male       No         No                 No      Yes         No   \n",
              "1   41   Male      Yes         No                 No      Yes        Yes   \n",
              "2   45   Male       No         No                Yes      Yes        Yes   \n",
              "3   60   Male      Yes        Yes                Yes      Yes        Yes   \n",
              "4   55   Male      Yes        Yes                 No      Yes        Yes   \n",
              "\n",
              "  Genital thrush visual blurring Itching Irritability delayed healing  \\\n",
              "0             No             Yes      No           No              No   \n",
              "1             No              No     Yes           No             Yes   \n",
              "2            Yes              No     Yes           No             Yes   \n",
              "3             No             Yes     Yes          Yes             Yes   \n",
              "4             No             Yes     Yes           No             Yes   \n",
              "\n",
              "  partial paresis muscle stiffness Alopecia Obesity     class  \n",
              "0             Yes               No      Yes      No  Positive  \n",
              "1              No              Yes      Yes      No  Positive  \n",
              "2              No               No       No      No  Positive  \n",
              "3             Yes              Yes      Yes     Yes  Positive  \n",
              "4              No              Yes      Yes     Yes  Positive  "
            ],
            "text/html": [
              "\n",
              "  <div id=\"df-01fdc4ab-80db-40fc-8151-03cdfe1768db\">\n",
              "    <div class=\"colab-df-container\">\n",
              "      <div>\n",
              "<style scoped>\n",
              "    .dataframe tbody tr th:only-of-type {\n",
              "        vertical-align: middle;\n",
              "    }\n",
              "\n",
              "    .dataframe tbody tr th {\n",
              "        vertical-align: top;\n",
              "    }\n",
              "\n",
              "    .dataframe thead th {\n",
              "        text-align: right;\n",
              "    }\n",
              "</style>\n",
              "<table border=\"1\" class=\"dataframe\">\n",
              "  <thead>\n",
              "    <tr style=\"text-align: right;\">\n",
              "      <th></th>\n",
              "      <th>Age</th>\n",
              "      <th>Gender</th>\n",
              "      <th>Polyuria</th>\n",
              "      <th>Polydipsia</th>\n",
              "      <th>sudden weight loss</th>\n",
              "      <th>weakness</th>\n",
              "      <th>Polyphagia</th>\n",
              "      <th>Genital thrush</th>\n",
              "      <th>visual blurring</th>\n",
              "      <th>Itching</th>\n",
              "      <th>Irritability</th>\n",
              "      <th>delayed healing</th>\n",
              "      <th>partial paresis</th>\n",
              "      <th>muscle stiffness</th>\n",
              "      <th>Alopecia</th>\n",
              "      <th>Obesity</th>\n",
              "      <th>class</th>\n",
              "    </tr>\n",
              "  </thead>\n",
              "  <tbody>\n",
              "    <tr>\n",
              "      <th>0</th>\n",
              "      <td>58</td>\n",
              "      <td>Male</td>\n",
              "      <td>No</td>\n",
              "      <td>No</td>\n",
              "      <td>No</td>\n",
              "      <td>Yes</td>\n",
              "      <td>No</td>\n",
              "      <td>No</td>\n",
              "      <td>Yes</td>\n",
              "      <td>No</td>\n",
              "      <td>No</td>\n",
              "      <td>No</td>\n",
              "      <td>Yes</td>\n",
              "      <td>No</td>\n",
              "      <td>Yes</td>\n",
              "      <td>No</td>\n",
              "      <td>Positive</td>\n",
              "    </tr>\n",
              "    <tr>\n",
              "      <th>1</th>\n",
              "      <td>41</td>\n",
              "      <td>Male</td>\n",
              "      <td>Yes</td>\n",
              "      <td>No</td>\n",
              "      <td>No</td>\n",
              "      <td>Yes</td>\n",
              "      <td>Yes</td>\n",
              "      <td>No</td>\n",
              "      <td>No</td>\n",
              "      <td>Yes</td>\n",
              "      <td>No</td>\n",
              "      <td>Yes</td>\n",
              "      <td>No</td>\n",
              "      <td>Yes</td>\n",
              "      <td>Yes</td>\n",
              "      <td>No</td>\n",
              "      <td>Positive</td>\n",
              "    </tr>\n",
              "    <tr>\n",
              "      <th>2</th>\n",
              "      <td>45</td>\n",
              "      <td>Male</td>\n",
              "      <td>No</td>\n",
              "      <td>No</td>\n",
              "      <td>Yes</td>\n",
              "      <td>Yes</td>\n",
              "      <td>Yes</td>\n",
              "      <td>Yes</td>\n",
              "      <td>No</td>\n",
              "      <td>Yes</td>\n",
              "      <td>No</td>\n",
              "      <td>Yes</td>\n",
              "      <td>No</td>\n",
              "      <td>No</td>\n",
              "      <td>No</td>\n",
              "      <td>No</td>\n",
              "      <td>Positive</td>\n",
              "    </tr>\n",
              "    <tr>\n",
              "      <th>3</th>\n",
              "      <td>60</td>\n",
              "      <td>Male</td>\n",
              "      <td>Yes</td>\n",
              "      <td>Yes</td>\n",
              "      <td>Yes</td>\n",
              "      <td>Yes</td>\n",
              "      <td>Yes</td>\n",
              "      <td>No</td>\n",
              "      <td>Yes</td>\n",
              "      <td>Yes</td>\n",
              "      <td>Yes</td>\n",
              "      <td>Yes</td>\n",
              "      <td>Yes</td>\n",
              "      <td>Yes</td>\n",
              "      <td>Yes</td>\n",
              "      <td>Yes</td>\n",
              "      <td>Positive</td>\n",
              "    </tr>\n",
              "    <tr>\n",
              "      <th>4</th>\n",
              "      <td>55</td>\n",
              "      <td>Male</td>\n",
              "      <td>Yes</td>\n",
              "      <td>Yes</td>\n",
              "      <td>No</td>\n",
              "      <td>Yes</td>\n",
              "      <td>Yes</td>\n",
              "      <td>No</td>\n",
              "      <td>Yes</td>\n",
              "      <td>Yes</td>\n",
              "      <td>No</td>\n",
              "      <td>Yes</td>\n",
              "      <td>No</td>\n",
              "      <td>Yes</td>\n",
              "      <td>Yes</td>\n",
              "      <td>Yes</td>\n",
              "      <td>Positive</td>\n",
              "    </tr>\n",
              "  </tbody>\n",
              "</table>\n",
              "</div>\n",
              "      <button class=\"colab-df-convert\" onclick=\"convertToInteractive('df-01fdc4ab-80db-40fc-8151-03cdfe1768db')\"\n",
              "              title=\"Convert this dataframe to an interactive table.\"\n",
              "              style=\"display:none;\">\n",
              "        \n",
              "  <svg xmlns=\"http://www.w3.org/2000/svg\" height=\"24px\"viewBox=\"0 0 24 24\"\n",
              "       width=\"24px\">\n",
              "    <path d=\"M0 0h24v24H0V0z\" fill=\"none\"/>\n",
              "    <path d=\"M18.56 5.44l.94 2.06.94-2.06 2.06-.94-2.06-.94-.94-2.06-.94 2.06-2.06.94zm-11 1L8.5 8.5l.94-2.06 2.06-.94-2.06-.94L8.5 2.5l-.94 2.06-2.06.94zm10 10l.94 2.06.94-2.06 2.06-.94-2.06-.94-.94-2.06-.94 2.06-2.06.94z\"/><path d=\"M17.41 7.96l-1.37-1.37c-.4-.4-.92-.59-1.43-.59-.52 0-1.04.2-1.43.59L10.3 9.45l-7.72 7.72c-.78.78-.78 2.05 0 2.83L4 21.41c.39.39.9.59 1.41.59.51 0 1.02-.2 1.41-.59l7.78-7.78 2.81-2.81c.8-.78.8-2.07 0-2.86zM5.41 20L4 18.59l7.72-7.72 1.47 1.35L5.41 20z\"/>\n",
              "  </svg>\n",
              "      </button>\n",
              "      \n",
              "  <style>\n",
              "    .colab-df-container {\n",
              "      display:flex;\n",
              "      flex-wrap:wrap;\n",
              "      gap: 12px;\n",
              "    }\n",
              "\n",
              "    .colab-df-convert {\n",
              "      background-color: #E8F0FE;\n",
              "      border: none;\n",
              "      border-radius: 50%;\n",
              "      cursor: pointer;\n",
              "      display: none;\n",
              "      fill: #1967D2;\n",
              "      height: 32px;\n",
              "      padding: 0 0 0 0;\n",
              "      width: 32px;\n",
              "    }\n",
              "\n",
              "    .colab-df-convert:hover {\n",
              "      background-color: #E2EBFA;\n",
              "      box-shadow: 0px 1px 2px rgba(60, 64, 67, 0.3), 0px 1px 3px 1px rgba(60, 64, 67, 0.15);\n",
              "      fill: #174EA6;\n",
              "    }\n",
              "\n",
              "    [theme=dark] .colab-df-convert {\n",
              "      background-color: #3B4455;\n",
              "      fill: #D2E3FC;\n",
              "    }\n",
              "\n",
              "    [theme=dark] .colab-df-convert:hover {\n",
              "      background-color: #434B5C;\n",
              "      box-shadow: 0px 1px 3px 1px rgba(0, 0, 0, 0.15);\n",
              "      filter: drop-shadow(0px 1px 2px rgba(0, 0, 0, 0.3));\n",
              "      fill: #FFFFFF;\n",
              "    }\n",
              "  </style>\n",
              "\n",
              "      <script>\n",
              "        const buttonEl =\n",
              "          document.querySelector('#df-01fdc4ab-80db-40fc-8151-03cdfe1768db button.colab-df-convert');\n",
              "        buttonEl.style.display =\n",
              "          google.colab.kernel.accessAllowed ? 'block' : 'none';\n",
              "\n",
              "        async function convertToInteractive(key) {\n",
              "          const element = document.querySelector('#df-01fdc4ab-80db-40fc-8151-03cdfe1768db');\n",
              "          const dataTable =\n",
              "            await google.colab.kernel.invokeFunction('convertToInteractive',\n",
              "                                                     [key], {});\n",
              "          if (!dataTable) return;\n",
              "\n",
              "          const docLinkHtml = 'Like what you see? Visit the ' +\n",
              "            '<a target=\"_blank\" href=https://colab.research.google.com/notebooks/data_table.ipynb>data table notebook</a>'\n",
              "            + ' to learn more about interactive tables.';\n",
              "          element.innerHTML = '';\n",
              "          dataTable['output_type'] = 'display_data';\n",
              "          await google.colab.output.renderOutput(dataTable, element);\n",
              "          const docLink = document.createElement('div');\n",
              "          docLink.innerHTML = docLinkHtml;\n",
              "          element.appendChild(docLink);\n",
              "        }\n",
              "      </script>\n",
              "    </div>\n",
              "  </div>\n",
              "  "
            ]
          },
          "metadata": {},
          "execution_count": 50
        }
      ]
    },
    {
      "cell_type": "markdown",
      "source": [
        "# **Pre-procesamiento del conjunto de datos**\n",
        "El conjunto de datos es variado. El atributo \"Age\" es el único atributo numérico. Todos los demás atributos son nominales. Para procesar los datos nominales en una red neuronal, es mejor convertirlos a una representación numérica. En el siguiente ejemplo transformamos el atributo \"Gender\" con valores nominales \"Female\" y \"Male\" a valores 1.0 y 0.0, respectivamente.\n",
        "\n",
        "Del mismo modo, cambiamos los valores nominales de todos los atributos a valores 0.0 y 1.0."
      ],
      "metadata": {
        "id": "KtRzLcq_3ecc"
      }
    },
    {
      "cell_type": "code",
      "source": [
        "gender = dataset.pop('Gender')\n",
        "dataset['gender'] = (gender == 'Female')*1.0\n",
        "\n",
        "column_class = dataset.pop('class')\n",
        "dataset['class'] = (column_class=='Positive')*1.0\n",
        "\n",
        "for column in column_names:\n",
        "  if column not in ['Gender', 'class', 'Age']:\n",
        "    column_class = dataset.pop(column)\n",
        "    dataset[column] = (column_class=='Yes')*1.0\n",
        "\n",
        "# Prueba mostrando parte de la data para ver si tu conversión se hizo correctamente\n",
        "dataset.tail()\n"
      ],
      "metadata": {
        "id": "5j7aHuwF1tsj",
        "colab": {
          "base_uri": "https://localhost:8080/",
          "height": 285
        },
        "outputId": "95b7c0a4-981e-423d-e7d7-bcbb72cb89de"
      },
      "execution_count": null,
      "outputs": [
        {
          "output_type": "execute_result",
          "data": {
            "text/plain": [
              "     Age  gender  class  Polyuria  Polydipsia  sudden weight loss  weakness  \\\n",
              "514   39     1.0    1.0       1.0         1.0                 1.0       0.0   \n",
              "515   48     1.0    1.0       1.0         1.0                 1.0       1.0   \n",
              "516   58     1.0    1.0       1.0         1.0                 1.0       1.0   \n",
              "517   32     1.0    0.0       0.0         0.0                 0.0       1.0   \n",
              "518   42     0.0    0.0       0.0         0.0                 0.0       0.0   \n",
              "\n",
              "     Polyphagia  Genital thrush  visual blurring  Itching  Irritability  \\\n",
              "514         1.0             0.0              0.0      1.0           0.0   \n",
              "515         1.0             0.0              0.0      1.0           1.0   \n",
              "516         1.0             0.0              1.0      0.0           0.0   \n",
              "517         0.0             0.0              1.0      1.0           0.0   \n",
              "518         0.0             0.0              0.0      0.0           0.0   \n",
              "\n",
              "     delayed healing  partial paresis  muscle stiffness  Alopecia  Obesity  \n",
              "514              1.0              1.0               0.0       0.0      0.0  \n",
              "515              1.0              1.0               0.0       0.0      0.0  \n",
              "516              0.0              1.0               1.0       0.0      1.0  \n",
              "517              1.0              0.0               0.0       1.0      0.0  \n",
              "518              0.0              0.0               0.0       0.0      0.0  "
            ],
            "text/html": [
              "\n",
              "  <div id=\"df-b077aba3-a197-4084-833c-e4ac2f9dd997\">\n",
              "    <div class=\"colab-df-container\">\n",
              "      <div>\n",
              "<style scoped>\n",
              "    .dataframe tbody tr th:only-of-type {\n",
              "        vertical-align: middle;\n",
              "    }\n",
              "\n",
              "    .dataframe tbody tr th {\n",
              "        vertical-align: top;\n",
              "    }\n",
              "\n",
              "    .dataframe thead th {\n",
              "        text-align: right;\n",
              "    }\n",
              "</style>\n",
              "<table border=\"1\" class=\"dataframe\">\n",
              "  <thead>\n",
              "    <tr style=\"text-align: right;\">\n",
              "      <th></th>\n",
              "      <th>Age</th>\n",
              "      <th>gender</th>\n",
              "      <th>class</th>\n",
              "      <th>Polyuria</th>\n",
              "      <th>Polydipsia</th>\n",
              "      <th>sudden weight loss</th>\n",
              "      <th>weakness</th>\n",
              "      <th>Polyphagia</th>\n",
              "      <th>Genital thrush</th>\n",
              "      <th>visual blurring</th>\n",
              "      <th>Itching</th>\n",
              "      <th>Irritability</th>\n",
              "      <th>delayed healing</th>\n",
              "      <th>partial paresis</th>\n",
              "      <th>muscle stiffness</th>\n",
              "      <th>Alopecia</th>\n",
              "      <th>Obesity</th>\n",
              "    </tr>\n",
              "  </thead>\n",
              "  <tbody>\n",
              "    <tr>\n",
              "      <th>514</th>\n",
              "      <td>39</td>\n",
              "      <td>1.0</td>\n",
              "      <td>1.0</td>\n",
              "      <td>1.0</td>\n",
              "      <td>1.0</td>\n",
              "      <td>1.0</td>\n",
              "      <td>0.0</td>\n",
              "      <td>1.0</td>\n",
              "      <td>0.0</td>\n",
              "      <td>0.0</td>\n",
              "      <td>1.0</td>\n",
              "      <td>0.0</td>\n",
              "      <td>1.0</td>\n",
              "      <td>1.0</td>\n",
              "      <td>0.0</td>\n",
              "      <td>0.0</td>\n",
              "      <td>0.0</td>\n",
              "    </tr>\n",
              "    <tr>\n",
              "      <th>515</th>\n",
              "      <td>48</td>\n",
              "      <td>1.0</td>\n",
              "      <td>1.0</td>\n",
              "      <td>1.0</td>\n",
              "      <td>1.0</td>\n",
              "      <td>1.0</td>\n",
              "      <td>1.0</td>\n",
              "      <td>1.0</td>\n",
              "      <td>0.0</td>\n",
              "      <td>0.0</td>\n",
              "      <td>1.0</td>\n",
              "      <td>1.0</td>\n",
              "      <td>1.0</td>\n",
              "      <td>1.0</td>\n",
              "      <td>0.0</td>\n",
              "      <td>0.0</td>\n",
              "      <td>0.0</td>\n",
              "    </tr>\n",
              "    <tr>\n",
              "      <th>516</th>\n",
              "      <td>58</td>\n",
              "      <td>1.0</td>\n",
              "      <td>1.0</td>\n",
              "      <td>1.0</td>\n",
              "      <td>1.0</td>\n",
              "      <td>1.0</td>\n",
              "      <td>1.0</td>\n",
              "      <td>1.0</td>\n",
              "      <td>0.0</td>\n",
              "      <td>1.0</td>\n",
              "      <td>0.0</td>\n",
              "      <td>0.0</td>\n",
              "      <td>0.0</td>\n",
              "      <td>1.0</td>\n",
              "      <td>1.0</td>\n",
              "      <td>0.0</td>\n",
              "      <td>1.0</td>\n",
              "    </tr>\n",
              "    <tr>\n",
              "      <th>517</th>\n",
              "      <td>32</td>\n",
              "      <td>1.0</td>\n",
              "      <td>0.0</td>\n",
              "      <td>0.0</td>\n",
              "      <td>0.0</td>\n",
              "      <td>0.0</td>\n",
              "      <td>1.0</td>\n",
              "      <td>0.0</td>\n",
              "      <td>0.0</td>\n",
              "      <td>1.0</td>\n",
              "      <td>1.0</td>\n",
              "      <td>0.0</td>\n",
              "      <td>1.0</td>\n",
              "      <td>0.0</td>\n",
              "      <td>0.0</td>\n",
              "      <td>1.0</td>\n",
              "      <td>0.0</td>\n",
              "    </tr>\n",
              "    <tr>\n",
              "      <th>518</th>\n",
              "      <td>42</td>\n",
              "      <td>0.0</td>\n",
              "      <td>0.0</td>\n",
              "      <td>0.0</td>\n",
              "      <td>0.0</td>\n",
              "      <td>0.0</td>\n",
              "      <td>0.0</td>\n",
              "      <td>0.0</td>\n",
              "      <td>0.0</td>\n",
              "      <td>0.0</td>\n",
              "      <td>0.0</td>\n",
              "      <td>0.0</td>\n",
              "      <td>0.0</td>\n",
              "      <td>0.0</td>\n",
              "      <td>0.0</td>\n",
              "      <td>0.0</td>\n",
              "      <td>0.0</td>\n",
              "    </tr>\n",
              "  </tbody>\n",
              "</table>\n",
              "</div>\n",
              "      <button class=\"colab-df-convert\" onclick=\"convertToInteractive('df-b077aba3-a197-4084-833c-e4ac2f9dd997')\"\n",
              "              title=\"Convert this dataframe to an interactive table.\"\n",
              "              style=\"display:none;\">\n",
              "        \n",
              "  <svg xmlns=\"http://www.w3.org/2000/svg\" height=\"24px\"viewBox=\"0 0 24 24\"\n",
              "       width=\"24px\">\n",
              "    <path d=\"M0 0h24v24H0V0z\" fill=\"none\"/>\n",
              "    <path d=\"M18.56 5.44l.94 2.06.94-2.06 2.06-.94-2.06-.94-.94-2.06-.94 2.06-2.06.94zm-11 1L8.5 8.5l.94-2.06 2.06-.94-2.06-.94L8.5 2.5l-.94 2.06-2.06.94zm10 10l.94 2.06.94-2.06 2.06-.94-2.06-.94-.94-2.06-.94 2.06-2.06.94z\"/><path d=\"M17.41 7.96l-1.37-1.37c-.4-.4-.92-.59-1.43-.59-.52 0-1.04.2-1.43.59L10.3 9.45l-7.72 7.72c-.78.78-.78 2.05 0 2.83L4 21.41c.39.39.9.59 1.41.59.51 0 1.02-.2 1.41-.59l7.78-7.78 2.81-2.81c.8-.78.8-2.07 0-2.86zM5.41 20L4 18.59l7.72-7.72 1.47 1.35L5.41 20z\"/>\n",
              "  </svg>\n",
              "      </button>\n",
              "      \n",
              "  <style>\n",
              "    .colab-df-container {\n",
              "      display:flex;\n",
              "      flex-wrap:wrap;\n",
              "      gap: 12px;\n",
              "    }\n",
              "\n",
              "    .colab-df-convert {\n",
              "      background-color: #E8F0FE;\n",
              "      border: none;\n",
              "      border-radius: 50%;\n",
              "      cursor: pointer;\n",
              "      display: none;\n",
              "      fill: #1967D2;\n",
              "      height: 32px;\n",
              "      padding: 0 0 0 0;\n",
              "      width: 32px;\n",
              "    }\n",
              "\n",
              "    .colab-df-convert:hover {\n",
              "      background-color: #E2EBFA;\n",
              "      box-shadow: 0px 1px 2px rgba(60, 64, 67, 0.3), 0px 1px 3px 1px rgba(60, 64, 67, 0.15);\n",
              "      fill: #174EA6;\n",
              "    }\n",
              "\n",
              "    [theme=dark] .colab-df-convert {\n",
              "      background-color: #3B4455;\n",
              "      fill: #D2E3FC;\n",
              "    }\n",
              "\n",
              "    [theme=dark] .colab-df-convert:hover {\n",
              "      background-color: #434B5C;\n",
              "      box-shadow: 0px 1px 3px 1px rgba(0, 0, 0, 0.15);\n",
              "      filter: drop-shadow(0px 1px 2px rgba(0, 0, 0, 0.3));\n",
              "      fill: #FFFFFF;\n",
              "    }\n",
              "  </style>\n",
              "\n",
              "      <script>\n",
              "        const buttonEl =\n",
              "          document.querySelector('#df-b077aba3-a197-4084-833c-e4ac2f9dd997 button.colab-df-convert');\n",
              "        buttonEl.style.display =\n",
              "          google.colab.kernel.accessAllowed ? 'block' : 'none';\n",
              "\n",
              "        async function convertToInteractive(key) {\n",
              "          const element = document.querySelector('#df-b077aba3-a197-4084-833c-e4ac2f9dd997');\n",
              "          const dataTable =\n",
              "            await google.colab.kernel.invokeFunction('convertToInteractive',\n",
              "                                                     [key], {});\n",
              "          if (!dataTable) return;\n",
              "\n",
              "          const docLinkHtml = 'Like what you see? Visit the ' +\n",
              "            '<a target=\"_blank\" href=https://colab.research.google.com/notebooks/data_table.ipynb>data table notebook</a>'\n",
              "            + ' to learn more about interactive tables.';\n",
              "          element.innerHTML = '';\n",
              "          dataTable['output_type'] = 'display_data';\n",
              "          await google.colab.output.renderOutput(dataTable, element);\n",
              "          const docLink = document.createElement('div');\n",
              "          docLink.innerHTML = docLinkHtml;\n",
              "          element.appendChild(docLink);\n",
              "        }\n",
              "      </script>\n",
              "    </div>\n",
              "  </div>\n",
              "  "
            ]
          },
          "metadata": {},
          "execution_count": 51
        }
      ]
    },
    {
      "cell_type": "markdown",
      "source": [
        "Ahora normalizamos el atributo \"Age\" y dividimos la data en conjunto de entrenamiento y conjunto de test. Esta división es siempre necesaria para poder probar si tu modelo de aprendizaje ha aprendido a generalizar con datos que no pertenecen al conjunto de entrenamiento."
      ],
      "metadata": {
        "id": "rZ01e3pV5JhV"
      }
    },
    {
      "cell_type": "code",
      "source": [
        "max_age = dataset[\"Age\"].max()\n",
        "dataset[\"Age\"] = dataset[\"Age\"] / max_age\n",
        "dataset.tail()\n",
        "\n",
        "\n",
        "#80% de datos para train y 20% de datos para test\n",
        "train_dataset = dataset.sample(frac=0.8,random_state=0)\n",
        "test_dataset = dataset.drop(train_dataset.index)\n",
        "\n",
        "train_labels = train_dataset.pop('class')\n",
        "test_labels = test_dataset.pop('class')\n",
        "\n"
      ],
      "metadata": {
        "id": "j8ActdUx1wzz"
      },
      "execution_count": null,
      "outputs": []
    },
    {
      "cell_type": "code",
      "source": [
        "#Convertimos todo a arrays Numpy\n",
        "X_train = train_dataset.to_numpy()\n",
        "X_test = test_dataset.to_numpy()\n",
        "\n",
        "Y_train = train_labels.to_numpy()\n",
        "Y_test = test_labels.to_numpy()\n",
        "\n",
        "Y_train = Y_train[:,None]\n",
        "Y_test = Y_test[:,None]\n",
        "\n",
        "print(X_train.shape)\n",
        "print(Y_train.shape)\n",
        "print(X_test.shape)\n",
        "print(Y_test.shape)\n"
      ],
      "metadata": {
        "id": "EkVs8jnHg70j",
        "colab": {
          "base_uri": "https://localhost:8080/"
        },
        "outputId": "dd6e701b-55bd-48c6-ea0e-696d5007b73f"
      },
      "execution_count": null,
      "outputs": [
        {
          "output_type": "stream",
          "name": "stdout",
          "text": [
            "(415, 16)\n",
            "(415, 1)\n",
            "(104, 16)\n",
            "(104, 1)\n"
          ]
        }
      ]
    },
    {
      "cell_type": "markdown",
      "source": [
        "# **Parte 1**\n",
        "Diseña y entrena un perceptrón multicapa con la data de arriba. Intenta que tu modelo alcance el mayor accuracy de test posible (ojalá por encima del 93%). Para este primer experimento puedes usar la implementación de MLP vista en clase (basada en Numpy) ó puedes usar algún framework como Tensorflow o Pytorch si es que deseas. Hay que tener en cuenta algunas consideraciones para este primer experimento:\n",
        "\n",
        "\n",
        "\n",
        "*   Usar gradiente descendiente estocástico con un tamaño de mini-batch de 20. \n",
        "*   Usar learning rate de 0.01.\n",
        "*  Los mini-batches NO se generan de manera aleatoria.\n",
        "\n",
        "Graficar la función de loss con respecto a las épocas."
      ],
      "metadata": {
        "id": "k45gRQcSoQEg"
      }
    },
    {
      "cell_type": "code",
      "source": [
        "#This class describes a fully connected layer (without activation function)\n",
        "\n",
        "class Linear:\n",
        "    # W: weight matrix (in x out)\n",
        "    # b: bias (out x 1)\n",
        "    \n",
        "    #Constructor - we define the parameters of this layer\n",
        "    def __init__(self, num_inputs, num_outputs, learning_rate, name):\n",
        "      #The parameters are initialized randomly - uniform distribution (0,1)\n",
        "      self.W = np.random.rand(num_inputs, num_outputs)\n",
        "      self.b = np.zeros((num_outputs, 1))\n",
        "      self.lr = learning_rate\n",
        "      self.name = name\n",
        "    \n",
        "    # input: mini-batch (batch_size x in)\n",
        "    # This function only operates the linear function\n",
        "    def forward(self, input):\n",
        "      self.inputs = input\n",
        "      return np.dot(self.inputs, self.W) + self.b.T\n",
        "    \n",
        "    # dy: Error in next layer (batch_size x out)\n",
        "    # This functions receives the error of the next layer and computes the error in this layer\n",
        "    def backward(self, dy):\n",
        "      batch_size = dy.shape[0]\n",
        "      dy = dy.T # (out x batch_size)\n",
        "      dw = dy.dot(self.inputs) #(out x in)\n",
        "      db = np.sum(dy, axis=1, keepdims=True) #(out x 1)\n",
        "      dx = np.dot(dy.T, self.W.T) # (batch_size x out) x (out x in)\n",
        "       \n",
        "      #SGD Rules\n",
        "      self.W -= (self.lr/batch_size)*dw.T\n",
        "      self.b -= (self.lr/batch_size)*db\n",
        "        \n",
        "      #The function computes the error in this layer and returns it for backpropagation\n",
        "      return dx\n",
        "\n",
        "#Class for the ReLU activation function\n",
        "class ReLU:\n",
        "  def __init__(self):    \n",
        "    pass\n",
        "  \n",
        "  def forward(self, input):\n",
        "    self.input = input\n",
        "    ret = input.copy()\n",
        "    ret[ret<0] = 0\n",
        "    return ret\n",
        "  \n",
        "  def backward(self, dy):\n",
        "    dx = dy.copy()\n",
        "    dx[self.input<0] = 0\n",
        "    return dx\n",
        "\n",
        "#Class for the sigmoid activation function\n",
        "class Sigmoid:\n",
        "    def __init__(self):\n",
        "      pass\n",
        "    \n",
        "    #Computes the sigmoid function\n",
        "    def forward(self, inputs):\n",
        "      self.output = 1/(1 + np.exp(-inputs))\n",
        "      return self.output\n",
        "    \n",
        "    #Backpropagates the incoming error using the derivative of sigmoid\n",
        "    def backward(self, dy):\n",
        "      return dy*self.output*(1-self.output) # dy/4\n",
        "\n"
      ],
      "metadata": {
        "id": "0cfSUtT0FnpN"
      },
      "execution_count": null,
      "outputs": []
    },
    {
      "cell_type": "code",
      "source": [
        "#Loss function\n",
        "def mse(output, labels):\n",
        "  return 0.5*np.sum((output-labels)**2)\n",
        "\n",
        "#Class for the neural network\n",
        "class NetworkReLU:\n",
        "    def __init__(self,lr):  # Se recibe el learning rate para que el cambio de este sea más rápido\n",
        "        \n",
        "      #The layers are in a list\n",
        "      # We create a three-layer network with sigmoid neurons\n",
        "      self.layers = [] \n",
        "      self.layers.append(Linear(num_inputs=16, num_outputs=5, learning_rate=lr, name='fc1'))\n",
        "      self.layers.append(ReLU())\n",
        "      self.layers.append(Linear(num_inputs=5, num_outputs=1, learning_rate=lr, name='fc3')) \n",
        "      self.layers.append(Sigmoid())\n",
        "      self.num_layers = len(self.layers)\n",
        "    \n",
        "    #Implements the training algorithm with mini-batch SGD\n",
        "    def train(self, training_data, training_label, batch_size, epoch, test_data, test_label,verbose=False):\n",
        "      #History values of losses\n",
        "      train_loss = []\n",
        "      test_loss = []\n",
        "        \n",
        "      #Main outer loop\n",
        "      for e in range(epoch):\n",
        "        # Perform a training epoch\n",
        "        loss = 0\n",
        "      \n",
        "        #Iterate over each batch\n",
        "        for batch_index in range(0, training_data.shape[0], batch_size):\n",
        "          #We need to identify whether a batch is complete or a batch is incomplete because it is the last one \n",
        "          if batch_index+batch_size < training_data.shape[0]:\n",
        "            data = training_data[batch_index:batch_index+batch_size]\n",
        "            label = training_label[batch_index:batch_index+batch_size]\n",
        "          else:\n",
        "            data = training_data[batch_index:training_data.shape[0]]\n",
        "            label = training_label[batch_index:training_label.shape[0]]\n",
        "\n",
        "        #Random mini-batch\n",
        "        \n",
        "                                \n",
        "          acc = 0\n",
        "                \n",
        "          #Forward pass - iterate over the list of layers\n",
        "          x = data\n",
        "          for l in range(self.num_layers):\n",
        "            output = self.layers[l].forward(x)\n",
        "            x = output\n",
        "\n",
        "          #The first error is the derivative of the loss wrt. the NN output          \n",
        "          dy = output - label\n",
        "          loss += mse(output, label) #Compute the loss\n",
        "\n",
        "          #Backpropagate\n",
        "          for l in range(self.num_layers-1, -1, -1):\n",
        "            dout = self.layers[l].backward(dy)\n",
        "            dy = dout\n",
        "                    \n",
        "        #End of an epoch\n",
        "        loss /= training_data.shape[0]\n",
        "        train_loss.append(loss)\n",
        "                                  \n",
        "        #Test after one epoch\n",
        "        loss = 0\n",
        "        outputs = []\n",
        "            \n",
        "        correct = 0\n",
        "        for batch_index in range(0, test_data.shape[0], batch_size):\n",
        "          if batch_index+batch_size < test_data.shape[0]:\n",
        "            data = test_data[batch_index:batch_index+batch_size]\n",
        "            label = test_label[batch_index:batch_index+batch_size]\n",
        "          else:\n",
        "            data = test_data[batch_index:test_data.shape[0]]\n",
        "            label = test_label[batch_index:test_label.shape[0]]\n",
        "                                \n",
        "          acc = 0\n",
        "                \n",
        "          #Forward pass\n",
        "          x = data\n",
        "          for l in range(self.num_layers):\n",
        "            output = self.layers[l].forward(x)\n",
        "            x = output\n",
        "                \n",
        "          loss += mse(output, label)\n",
        "                \n",
        "          test_output = (output >= 0.5)\n",
        "          #Compare the output of the network with the correct labels\n",
        "          correct += (test_output == label).sum()\n",
        "            \n",
        "        loss /= test_data.shape[0]\n",
        "        test_loss.append(loss)\n",
        "            \n",
        "        if verbose:\n",
        "          print('Epoch {}/{}: loss = {}: Test accuracy={}'.format(e, epoch, loss, (100*correct)/test_label.shape[0]))\n",
        "        else:\n",
        "          if e % 20 == 0:\n",
        "            print('Epoch {}/{}: loss = {}: Test accuracy={}'.format(e, epoch, loss, (100*correct)/test_label.shape[0]))\n",
        "                    \n",
        "      return dict({'train_loss': train_loss, 'test_loss':test_loss})\n",
        "    \n",
        "    def evaluate(self, data, label, batch_size):\n",
        "      correct = 0\n",
        "      for batch_index in range(0, data.shape[0], batch_size):\n",
        "        if batch_index+batch_size < data.shape[0]:\n",
        "          ndata = data[batch_index:batch_index+batch_size]\n",
        "          nlabel = label[batch_index:batch_index+batch_size]\n",
        "        else:\n",
        "          ndata = data[batch_index:data.shape[0]]\n",
        "          nlabel = label[batch_index:label.shape[0]]\n",
        "            \n",
        "        x = ndata\n",
        "        for l in range(self.num_layers):\n",
        "          output = self.layers[l].forward(x)\n",
        "          x = output\n",
        "            \n",
        "        test_output = (output >= 0.5)\n",
        "        #Compare the output of the network with the correct labels\n",
        "        correct += (test_output == nlabel).sum()\n",
        "        \n",
        "      return (100*correct)/label.shape[0]\n",
        "\n",
        "    def predict(self, data, batch_size):\n",
        "      output_pred = []\n",
        "\n",
        "      for batch_index in range(0, data.shape[0], batch_size):\n",
        "        if batch_index+batch_size < data.shape[0]:\n",
        "          ndata = data[batch_index:batch_index+batch_size]\n",
        "        else:\n",
        "          ndata = data[batch_index:data.shape[0]]\n",
        "                    \n",
        "        x = ndata\n",
        "        for l in range(self.num_layers):\n",
        "          output = self.layers[l].forward(x)\n",
        "          x = output\n",
        "                    \n",
        "        test_output = (output >= 0.5)\n",
        "        #test_output = np.argmax(output, axis=1)\n",
        "        output_pred.append(test_output)\n",
        "      \n",
        "      return np.vstack(output_pred)"
      ],
      "metadata": {
        "id": "Mw-413IJNB7L"
      },
      "execution_count": null,
      "outputs": []
    },
    {
      "cell_type": "code",
      "source": [
        "start_time = time.time()\n",
        "net = NetworkReLU(lr=0.01)\n",
        "history = net.train(X_train, Y_train, 20, 1000, X_test, Y_test)\n",
        "\n",
        "print('Train accuracy:{} - Test accuracy: {}'.format(net.evaluate(X_train, Y_train, 20), net.evaluate(X_test, Y_test, 20)))\n",
        "print(\"--- %s seconds ---\" % (time.time() - start_time))"
      ],
      "metadata": {
        "colab": {
          "base_uri": "https://localhost:8080/"
        },
        "id": "dPyx0iWKRz_2",
        "outputId": "e852da88-3376-4f34-82ea-6b809e5111fc"
      },
      "execution_count": null,
      "outputs": [
        {
          "output_type": "stream",
          "name": "stdout",
          "text": [
            "Epoch 0/1000: loss = 0.14216282642460532: Test accuracy=61.53846153846154\n",
            "Epoch 20/1000: loss = 0.1332082325078851: Test accuracy=61.53846153846154\n",
            "Epoch 40/1000: loss = 0.11855834016564396: Test accuracy=73.07692307692308\n",
            "Epoch 60/1000: loss = 0.08349414960697171: Test accuracy=74.03846153846153\n",
            "Epoch 80/1000: loss = 0.07916074219670413: Test accuracy=80.76923076923077\n",
            "Epoch 100/1000: loss = 0.07537680647064607: Test accuracy=80.76923076923077\n",
            "Epoch 120/1000: loss = 0.07170589108455395: Test accuracy=84.61538461538461\n",
            "Epoch 140/1000: loss = 0.0680286507290082: Test accuracy=88.46153846153847\n",
            "Epoch 160/1000: loss = 0.06432126459881987: Test accuracy=88.46153846153847\n",
            "Epoch 180/1000: loss = 0.06068338640971863: Test accuracy=86.53846153846153\n",
            "Epoch 200/1000: loss = 0.05725506147761768: Test accuracy=86.53846153846153\n",
            "Epoch 220/1000: loss = 0.05415113680304361: Test accuracy=87.5\n",
            "Epoch 240/1000: loss = 0.051424337231068436: Test accuracy=91.34615384615384\n",
            "Epoch 260/1000: loss = 0.049072155918188094: Test accuracy=92.3076923076923\n",
            "Epoch 280/1000: loss = 0.047059145900113945: Test accuracy=92.3076923076923\n",
            "Epoch 300/1000: loss = 0.04532041242519776: Test accuracy=92.3076923076923\n",
            "Epoch 320/1000: loss = 0.04380829054615114: Test accuracy=92.3076923076923\n",
            "Epoch 340/1000: loss = 0.04248183450142641: Test accuracy=92.3076923076923\n",
            "Epoch 360/1000: loss = 0.04130774086065606: Test accuracy=92.3076923076923\n",
            "Epoch 380/1000: loss = 0.04025799395118634: Test accuracy=92.3076923076923\n",
            "Epoch 400/1000: loss = 0.03931144708381955: Test accuracy=92.3076923076923\n",
            "Epoch 420/1000: loss = 0.03845174861306464: Test accuracy=92.3076923076923\n",
            "Epoch 440/1000: loss = 0.037666261730820064: Test accuracy=92.3076923076923\n",
            "Epoch 460/1000: loss = 0.03694513468702198: Test accuracy=92.3076923076923\n",
            "Epoch 480/1000: loss = 0.03628072411447196: Test accuracy=90.38461538461539\n",
            "Epoch 500/1000: loss = 0.03566697737173508: Test accuracy=91.34615384615384\n",
            "Epoch 520/1000: loss = 0.03509904232014431: Test accuracy=90.38461538461539\n",
            "Epoch 540/1000: loss = 0.03457306001925227: Test accuracy=90.38461538461539\n",
            "Epoch 560/1000: loss = 0.034085670868202134: Test accuracy=90.38461538461539\n",
            "Epoch 580/1000: loss = 0.03363410524869576: Test accuracy=91.34615384615384\n",
            "Epoch 600/1000: loss = 0.03321608365480486: Test accuracy=91.34615384615384\n",
            "Epoch 620/1000: loss = 0.03282940373179592: Test accuracy=91.34615384615384\n",
            "Epoch 640/1000: loss = 0.032472149669275294: Test accuracy=91.34615384615384\n",
            "Epoch 660/1000: loss = 0.032142592255499994: Test accuracy=91.34615384615384\n",
            "Epoch 680/1000: loss = 0.03183912052718245: Test accuracy=91.34615384615384\n",
            "Epoch 700/1000: loss = 0.03156023255671956: Test accuracy=91.34615384615384\n",
            "Epoch 720/1000: loss = 0.03130451474706701: Test accuracy=91.34615384615384\n",
            "Epoch 740/1000: loss = 0.031070629003627764: Test accuracy=91.34615384615384\n",
            "Epoch 760/1000: loss = 0.030857304163352375: Test accuracy=91.34615384615384\n",
            "Epoch 780/1000: loss = 0.03066332976911532: Test accuracy=91.34615384615384\n",
            "Epoch 800/1000: loss = 0.03048755140389345: Test accuracy=91.34615384615384\n",
            "Epoch 820/1000: loss = 0.03032886704864564: Test accuracy=91.34615384615384\n",
            "Epoch 840/1000: loss = 0.03018622411329636: Test accuracy=91.34615384615384\n",
            "Epoch 860/1000: loss = 0.030058616924619048: Test accuracy=91.34615384615384\n",
            "Epoch 880/1000: loss = 0.02994508454833411: Test accuracy=91.34615384615384\n",
            "Epoch 900/1000: loss = 0.029844708883807462: Test accuracy=91.34615384615384\n",
            "Epoch 920/1000: loss = 0.029756613005467888: Test accuracy=91.34615384615384\n",
            "Epoch 940/1000: loss = 0.029679959741620337: Test accuracy=91.34615384615384\n",
            "Epoch 960/1000: loss = 0.029613773496357132: Test accuracy=91.34615384615384\n",
            "Epoch 980/1000: loss = 0.0295580749556758: Test accuracy=91.34615384615384\n",
            "Train accuracy:93.97590361445783 - Test accuracy: 91.34615384615384\n",
            "--- 2.6976959705352783 seconds ---\n"
          ]
        }
      ]
    },
    {
      "cell_type": "code",
      "source": [
        "plt.figure()\n",
        "plt.plot(history['train_loss'], color='b', label='Train Loss')\n",
        "plt.plot(history['test_loss'], color='r', label='Test loss')\n",
        "plt.legend()\n",
        "plt.show()"
      ],
      "metadata": {
        "colab": {
          "base_uri": "https://localhost:8080/",
          "height": 267
        },
        "id": "_tYG41oUEODz",
        "outputId": "b6259fe5-f2b5-426e-9120-10d5bdd26606"
      },
      "execution_count": null,
      "outputs": [
        {
          "output_type": "display_data",
          "data": {
            "text/plain": [
              "<Figure size 432x288 with 1 Axes>"
            ],
            "image/png": "[encoded data removed]"
          },
          "metadata": {
            "needs_background": "light"
          }
        }
      ]
    },
    {
      "cell_type": "markdown",
      "source": [
        "# **Parte 2**\n",
        "Intenta cambiar el tamaño de los mini-batches. Como casos extremos usa m=1 (mini-batches de tamaño 1) y m=n(1 solo mini-batch con todos los datos). Qué resultados obtienes? Discute los resultados. (Hay que explicar el fenómeno observado, dando su opinión de porqué sucede).\n",
        "\n",
        "Graficar la función de loss con respecto a las épocas y comparar con la función de loss de la Parte 1."
      ],
      "metadata": {
        "id": "mJR12xjqpnu-"
      }
    },
    {
      "cell_type": "code",
      "source": [
        "start_time = time.time()\n",
        "\n",
        "net = NetworkReLU(lr=0.01)\n",
        "history = net.train(X_train, Y_train, 1, 1000, X_test, Y_test) # Mini batch de tamaño 1\n",
        "\n",
        "print('Train accuracy:{} - Test accuracy: {}'.format(net.evaluate(X_train, Y_train, 20), net.evaluate(X_test, Y_test, 20)))\n",
        "print(\"--- %s seconds ---\" % (time.time() - start_time))"
      ],
      "metadata": {
        "colab": {
          "base_uri": "https://localhost:8080/"
        },
        "id": "o2Q3-Yb5WEl8",
        "outputId": "54e9b8ad-507f-4eaa-a66a-357e5ca602bf"
      },
      "execution_count": null,
      "outputs": [
        {
          "output_type": "stream",
          "name": "stdout",
          "text": [
            "Epoch 0/1000: loss = 0.15656963134108556: Test accuracy=61.53846153846154\n",
            "Epoch 20/1000: loss = 0.051821665363289623: Test accuracy=86.53846153846153\n",
            "Epoch 40/1000: loss = 0.03168253542271843: Test accuracy=92.3076923076923\n",
            "Epoch 60/1000: loss = 0.029691350591529754: Test accuracy=91.34615384615384\n",
            "Epoch 80/1000: loss = 0.03063390843793634: Test accuracy=91.34615384615384\n",
            "Epoch 100/1000: loss = 0.03173923730286699: Test accuracy=91.34615384615384\n",
            "Epoch 120/1000: loss = 0.032692929067019746: Test accuracy=91.34615384615384\n",
            "Epoch 140/1000: loss = 0.03353603732990176: Test accuracy=91.34615384615384\n",
            "Epoch 160/1000: loss = 0.0343026212335305: Test accuracy=91.34615384615384\n",
            "Epoch 180/1000: loss = 0.03500347095132414: Test accuracy=92.3076923076923\n",
            "Epoch 200/1000: loss = 0.03564334568539631: Test accuracy=92.3076923076923\n",
            "Epoch 220/1000: loss = 0.036220200355544144: Test accuracy=92.3076923076923\n",
            "Epoch 240/1000: loss = 0.036709760458457884: Test accuracy=92.3076923076923\n",
            "Epoch 260/1000: loss = 0.037102033451962266: Test accuracy=92.3076923076923\n",
            "Epoch 280/1000: loss = 0.03739588778695471: Test accuracy=92.3076923076923\n",
            "Epoch 300/1000: loss = 0.037603275511168585: Test accuracy=92.3076923076923\n",
            "Epoch 320/1000: loss = 0.03775208874131318: Test accuracy=92.3076923076923\n",
            "Epoch 340/1000: loss = 0.03785293055436032: Test accuracy=92.3076923076923\n",
            "Epoch 360/1000: loss = 0.03791539286551163: Test accuracy=92.3076923076923\n",
            "Epoch 380/1000: loss = 0.0379503132682707: Test accuracy=92.3076923076923\n",
            "Epoch 400/1000: loss = 0.037967249608045796: Test accuracy=92.3076923076923\n",
            "Epoch 420/1000: loss = 0.037973203419015916: Test accuracy=92.3076923076923\n",
            "Epoch 440/1000: loss = 0.03797315770680921: Test accuracy=92.3076923076923\n",
            "Epoch 460/1000: loss = 0.03797062301191101: Test accuracy=92.3076923076923\n",
            "Epoch 480/1000: loss = 0.037968089496751505: Test accuracy=92.3076923076923\n",
            "Epoch 500/1000: loss = 0.037966953908988396: Test accuracy=92.3076923076923\n",
            "Epoch 520/1000: loss = 0.03796813832378462: Test accuracy=92.3076923076923\n",
            "Epoch 540/1000: loss = 0.03797173481128497: Test accuracy=92.3076923076923\n",
            "Epoch 560/1000: loss = 0.03797883123571194: Test accuracy=92.3076923076923\n",
            "Epoch 580/1000: loss = 0.03798908554654759: Test accuracy=92.3076923076923\n",
            "Epoch 600/1000: loss = 0.03800213560304581: Test accuracy=92.3076923076923\n",
            "Epoch 620/1000: loss = 0.038017663545398546: Test accuracy=92.3076923076923\n",
            "Epoch 640/1000: loss = 0.0380353349376284: Test accuracy=92.3076923076923\n",
            "Epoch 660/1000: loss = 0.03805481854137876: Test accuracy=92.3076923076923\n",
            "Epoch 680/1000: loss = 0.03807578933006149: Test accuracy=92.3076923076923\n",
            "Epoch 700/1000: loss = 0.038097940294639206: Test accuracy=92.3076923076923\n",
            "Epoch 720/1000: loss = 0.03812098699378859: Test accuracy=92.3076923076923\n",
            "Epoch 740/1000: loss = 0.03814467013599891: Test accuracy=92.3076923076923\n",
            "Epoch 760/1000: loss = 0.038168756578909065: Test accuracy=92.3076923076923\n",
            "Epoch 780/1000: loss = 0.03819303918637648: Test accuracy=92.3076923076923\n",
            "Epoch 800/1000: loss = 0.038217335918478465: Test accuracy=92.3076923076923\n",
            "Epoch 820/1000: loss = 0.03824148843582949: Test accuracy=92.3076923076923\n",
            "Epoch 840/1000: loss = 0.03826536042310659: Test accuracy=92.3076923076923\n",
            "Epoch 860/1000: loss = 0.03828883577643179: Test accuracy=92.3076923076923\n",
            "Epoch 880/1000: loss = 0.03831181675081506: Test accuracy=92.3076923076923\n",
            "Epoch 900/1000: loss = 0.03833422213968725: Test accuracy=92.3076923076923\n",
            "Epoch 920/1000: loss = 0.038355985524824096: Test accuracy=92.3076923076923\n",
            "Epoch 940/1000: loss = 0.038377053625339635: Test accuracy=92.3076923076923\n",
            "Epoch 960/1000: loss = 0.03839738476128358: Test accuracy=92.3076923076923\n",
            "Epoch 980/1000: loss = 0.03841694743854924: Test accuracy=92.3076923076923\n",
            "Train accuracy:97.10843373493977 - Test accuracy: 92.3076923076923\n",
            "--- 37.54497957229614 seconds ---\n"
          ]
        }
      ]
    },
    {
      "cell_type": "code",
      "source": [
        "plt.figure()\n",
        "plt.plot(history['train_loss'], color='b', label='Train Loss')\n",
        "plt.plot(history['test_loss'], color='r', label='Test loss')\n",
        "plt.legend()\n",
        "plt.show()"
      ],
      "metadata": {
        "colab": {
          "base_uri": "https://localhost:8080/",
          "height": 265
        },
        "id": "Sm1JMKi4WwKb",
        "outputId": "cf29846e-2508-4ecc-b7e9-74a18751e62f"
      },
      "execution_count": null,
      "outputs": [
        {
          "output_type": "display_data",
          "data": {
            "text/plain": [
              "<Figure size 432x288 with 1 Axes>"
            ],
            "image/png": "[encoded data removed]"
          },
          "metadata": {
            "needs_background": "light"
          }
        }
      ]
    },
    {
      "cell_type": "code",
      "source": [
        "start_time = time.time()\n",
        "\n",
        "net = NetworkReLU(lr=0.01)\n",
        "history = net.train(X_train, Y_train, 416, 1000, X_test, Y_test) # Minibatch de tamaño igual al total de detos\n",
        "\n",
        "print('Train accuracy:{} - Test accuracy: {}'.format(net.evaluate(X_train, Y_train, 20), net.evaluate(X_test, Y_test, 20)))\n",
        "print(\"--- %s seconds ---\" % (time.time() - start_time))"
      ],
      "metadata": {
        "colab": {
          "base_uri": "https://localhost:8080/"
        },
        "id": "QBu4Tbv-Xs0o",
        "outputId": "091db7f1-bd40-4920-a4b8-569d5d5d9e08"
      },
      "execution_count": null,
      "outputs": [
        {
          "output_type": "stream",
          "name": "stdout",
          "text": [
            "Epoch 0/1000: loss = 0.15257522814361948: Test accuracy=61.53846153846154\n",
            "Epoch 20/1000: loss = 0.1522194436335132: Test accuracy=61.53846153846154\n",
            "Epoch 40/1000: loss = 0.15186161561295813: Test accuracy=61.53846153846154\n",
            "Epoch 60/1000: loss = 0.15150176075500654: Test accuracy=61.53846153846154\n",
            "Epoch 80/1000: loss = 0.15113989516157783: Test accuracy=61.53846153846154\n",
            "Epoch 100/1000: loss = 0.1507760342708021: Test accuracy=61.53846153846154\n",
            "Epoch 120/1000: loss = 0.15041019276104445: Test accuracy=61.53846153846154\n",
            "Epoch 140/1000: loss = 0.15004238445156587: Test accuracy=61.53846153846154\n",
            "Epoch 160/1000: loss = 0.14967262219977048: Test accuracy=61.53846153846154\n",
            "Epoch 180/1000: loss = 0.14930091779497792: Test accuracy=61.53846153846154\n",
            "Epoch 200/1000: loss = 0.14892728184864992: Test accuracy=61.53846153846154\n",
            "Epoch 220/1000: loss = 0.14855172368098574: Test accuracy=61.53846153846154\n",
            "Epoch 240/1000: loss = 0.14817425120378844: Test accuracy=61.53846153846154\n",
            "Epoch 260/1000: loss = 0.14779487079948547: Test accuracy=61.53846153846154\n",
            "Epoch 280/1000: loss = 0.14741358719617084: Test accuracy=61.53846153846154\n",
            "Epoch 300/1000: loss = 0.14703040333851286: Test accuracy=61.53846153846154\n",
            "Epoch 320/1000: loss = 0.1466453202543509: Test accuracy=61.53846153846154\n",
            "Epoch 340/1000: loss = 0.14625833691677653: Test accuracy=61.53846153846154\n",
            "Epoch 360/1000: loss = 0.14586945010146854: Test accuracy=61.53846153846154\n",
            "Epoch 380/1000: loss = 0.14547865423901676: Test accuracy=61.53846153846154\n",
            "Epoch 400/1000: loss = 0.14508594126193838: Test accuracy=61.53846153846154\n",
            "Epoch 420/1000: loss = 0.14469130044604964: Test accuracy=61.53846153846154\n",
            "Epoch 440/1000: loss = 0.14429471824581475: Test accuracy=61.53846153846154\n",
            "Epoch 460/1000: loss = 0.1438961781232485: Test accuracy=61.53846153846154\n",
            "Epoch 480/1000: loss = 0.14349566036989705: Test accuracy=61.53846153846154\n",
            "Epoch 500/1000: loss = 0.14309314192136685: Test accuracy=61.53846153846154\n",
            "Epoch 520/1000: loss = 0.1426885961638101: Test accuracy=61.53846153846154\n",
            "Epoch 540/1000: loss = 0.14228199273170855: Test accuracy=61.53846153846154\n",
            "Epoch 560/1000: loss = 0.1418732972962241: Test accuracy=61.53846153846154\n",
            "Epoch 580/1000: loss = 0.14146247134330342: Test accuracy=61.53846153846154\n",
            "Epoch 600/1000: loss = 0.14104947194063583: Test accuracy=61.53846153846154\n",
            "Epoch 620/1000: loss = 0.14063425149246594: Test accuracy=61.53846153846154\n",
            "Epoch 640/1000: loss = 0.1402167574811558: Test accuracy=61.53846153846154\n",
            "Epoch 660/1000: loss = 0.13979693219427208: Test accuracy=61.53846153846154\n",
            "Epoch 680/1000: loss = 0.1393747124358452: Test accuracy=61.53846153846154\n",
            "Epoch 700/1000: loss = 0.13895002922030314: Test accuracy=61.53846153846154\n",
            "Epoch 720/1000: loss = 0.138522807447423: Test accuracy=61.53846153846154\n",
            "Epoch 740/1000: loss = 0.13809296555647005: Test accuracy=61.53846153846154\n",
            "Epoch 760/1000: loss = 0.13766041515749747: Test accuracy=61.53846153846154\n",
            "Epoch 780/1000: loss = 0.13722506063756693: Test accuracy=61.53846153846154\n",
            "Epoch 800/1000: loss = 0.1367867987394091: Test accuracy=64.42307692307692\n",
            "Epoch 820/1000: loss = 0.1363455181097794: Test accuracy=64.42307692307692\n",
            "Epoch 840/1000: loss = 0.1359010988144675: Test accuracy=64.42307692307692\n",
            "Epoch 860/1000: loss = 0.13545384774664437: Test accuracy=69.23076923076923\n",
            "Epoch 880/1000: loss = 0.1350042471961163: Test accuracy=69.23076923076923\n",
            "Epoch 900/1000: loss = 0.13456078353879128: Test accuracy=69.23076923076923\n",
            "Epoch 920/1000: loss = 0.13411340938851463: Test accuracy=69.23076923076923\n",
            "Epoch 940/1000: loss = 0.13366195103191097: Test accuracy=69.23076923076923\n",
            "Epoch 960/1000: loss = 0.13320622253274644: Test accuracy=70.1923076923077\n",
            "Epoch 980/1000: loss = 0.1327578374250461: Test accuracy=70.1923076923077\n",
            "Train accuracy:66.50602409638554 - Test accuracy: 71.15384615384616\n",
            "--- 0.33437228202819824 seconds ---\n"
          ]
        }
      ]
    },
    {
      "cell_type": "code",
      "source": [
        "plt.figure()\n",
        "plt.plot(history['train_loss'], color='b', label='Train Loss')\n",
        "plt.plot(history['test_loss'], color='r', label='Test loss')\n",
        "plt.legend()\n",
        "plt.show()"
      ],
      "metadata": {
        "colab": {
          "base_uri": "https://localhost:8080/",
          "height": 265
        },
        "id": "39efd5JxYAJl",
        "outputId": "3538f065-0779-45de-f82b-9499a86ca0a0"
      },
      "execution_count": null,
      "outputs": [
        {
          "output_type": "display_data",
          "data": {
            "text/plain": [
              "<Figure size 432x288 with 1 Axes>"
            ],
            "image/png": "[encoded data removed]"
          },
          "metadata": {
            "needs_background": "light"
          }
        }
      ]
    },
    {
      "cell_type": "markdown",
      "source": [
        "## Comentarios parte 2\n",
        "El accuracy en el primer caso (tamaño del minibatch igual a 1) es notablemente mejor, esto debido a que usar un minibatch de tamaño 1, es equivalente a utilizar el método de gradiente sin realizar las aproximaciones del método  estocástico. Por lo que hay una mayor exactitud. Es posible notar además que la red del primer caso posee un mejor rendimiento, tanto en el entrenamiento como en los test.\n",
        "\n",
        "Es posible notar que, la ganancia de exactitud es a costa del tiempo de computo, es decir, hacer pasar los datos de uno en uno por la red (minibatch de tamaño 1) toma un mayor tiempo (44 segundos versus 0.32 segundos) que hacer pasar los 416 en una sola pasada realizando una aproximanción que tiene como resultado un aumento en el error (menos exacta).\n",
        "\n",
        "La opción más óptima solo cambiando el tamaño del batch a un número constante, estaría en un punto medio (como el caso de la parte 1), en la cual el tiempo de computo es relativamente bajo pero la pérdida en el accuracy sigue siendo aceptable."
      ],
      "metadata": {
        "id": "gczyuSIdgmQp"
      }
    },
    {
      "cell_type": "markdown",
      "source": [
        "# **Parte 3**\n",
        "Intenta cambiar el learning rate. Como casos extremos usa lr = 0.5 y lr = 0.000001. Qué resultados obtienes? Discute los resultados. (Hay que explicar el fenómeno observado, dando su opinión de porqué sucede).\n",
        "\n",
        "Graficar la función de loss con respecto a las épocas y comparar con la función de loss de la Parte 1."
      ],
      "metadata": {
        "id": "ANcEAlvhqN27"
      }
    },
    {
      "cell_type": "markdown",
      "source": [
        "\n",
        "##Learning rate de lr=0.5"
      ],
      "metadata": {
        "id": "l3hfiquFaWne"
      }
    },
    {
      "cell_type": "code",
      "source": [
        "net = NetworkReLU(lr=0.5)\n",
        "history = net.train(X_train, Y_train, 20, 1000, X_test, Y_test)\n",
        "\n",
        "print('Train accuracy:{} - Test accuracy: {}'.format(net.evaluate(X_train, Y_train, 20), net.evaluate(X_test, Y_test, 20)))"
      ],
      "metadata": {
        "colab": {
          "base_uri": "https://localhost:8080/"
        },
        "id": "WeMyAUHaZXt1",
        "outputId": "16c2349d-d225-48ec-e026-11110ddf5cd5"
      },
      "execution_count": null,
      "outputs": [
        {
          "output_type": "stream",
          "name": "stdout",
          "text": [
            "Epoch 0/1000: loss = 0.14648410032239698: Test accuracy=61.53846153846154\n",
            "Epoch 20/1000: loss = 0.030339941056367923: Test accuracy=91.34615384615384\n",
            "Epoch 40/1000: loss = 0.03395628758131318: Test accuracy=89.42307692307692\n",
            "Epoch 60/1000: loss = 0.03616962555316207: Test accuracy=91.34615384615384\n",
            "Epoch 80/1000: loss = 0.03756160687011622: Test accuracy=92.3076923076923\n",
            "Epoch 100/1000: loss = 0.038356212318939376: Test accuracy=92.3076923076923\n",
            "Epoch 120/1000: loss = 0.03868217624295451: Test accuracy=92.3076923076923\n",
            "Epoch 140/1000: loss = 0.03874876587944998: Test accuracy=92.3076923076923\n",
            "Epoch 160/1000: loss = 0.03871044201615406: Test accuracy=92.3076923076923\n",
            "Epoch 180/1000: loss = 0.03864727643936367: Test accuracy=92.3076923076923\n",
            "Epoch 200/1000: loss = 0.03860126612651084: Test accuracy=92.3076923076923\n",
            "Epoch 220/1000: loss = 0.03858387866849852: Test accuracy=92.3076923076923\n",
            "Epoch 240/1000: loss = 0.038593362849713195: Test accuracy=92.3076923076923\n",
            "Epoch 260/1000: loss = 0.038622673941305155: Test accuracy=92.3076923076923\n",
            "Epoch 280/1000: loss = 0.03866415569868355: Test accuracy=92.3076923076923\n",
            "Epoch 300/1000: loss = 0.03871149842062557: Test accuracy=92.3076923076923\n",
            "Epoch 320/1000: loss = 0.038760202718083385: Test accuracy=92.3076923076923\n",
            "Epoch 340/1000: loss = 0.03880730270405692: Test accuracy=92.3076923076923\n",
            "Epoch 360/1000: loss = 0.03885066446682401: Test accuracy=92.3076923076923\n",
            "Epoch 380/1000: loss = 0.03888846401607758: Test accuracy=92.3076923076923\n",
            "Epoch 400/1000: loss = 0.03892141153340041: Test accuracy=92.3076923076923\n",
            "Epoch 420/1000: loss = 0.03894938030140768: Test accuracy=92.3076923076923\n",
            "Epoch 440/1000: loss = 0.038981636754149555: Test accuracy=92.3076923076923\n",
            "Epoch 460/1000: loss = 0.03900962661764852: Test accuracy=92.3076923076923\n",
            "Epoch 480/1000: loss = 0.03903067104044094: Test accuracy=92.3076923076923\n",
            "Epoch 500/1000: loss = 0.039045907047979424: Test accuracy=92.3076923076923\n",
            "Epoch 520/1000: loss = 0.03905619754082332: Test accuracy=92.3076923076923\n",
            "Epoch 540/1000: loss = 0.03906227866275736: Test accuracy=92.3076923076923\n",
            "Epoch 560/1000: loss = 0.039064765884376136: Test accuracy=92.3076923076923\n",
            "Epoch 580/1000: loss = 0.039064179411885475: Test accuracy=92.3076923076923\n",
            "Epoch 600/1000: loss = 0.039060960362335674: Test accuracy=92.3076923076923\n",
            "Epoch 620/1000: loss = 0.03905551174147493: Test accuracy=92.3076923076923\n",
            "Epoch 640/1000: loss = 0.039048137145701885: Test accuracy=92.3076923076923\n",
            "Epoch 660/1000: loss = 0.039039132615905116: Test accuracy=92.3076923076923\n",
            "Epoch 680/1000: loss = 0.039028747398657165: Test accuracy=92.3076923076923\n",
            "Epoch 700/1000: loss = 0.03901719797148348: Test accuracy=92.3076923076923\n",
            "Epoch 720/1000: loss = 0.03900467219663995: Test accuracy=92.3076923076923\n",
            "Epoch 740/1000: loss = 0.03899133335148223: Test accuracy=92.3076923076923\n",
            "Epoch 760/1000: loss = 0.03897732195413665: Test accuracy=92.3076923076923\n",
            "Epoch 780/1000: loss = 0.038962760425402636: Test accuracy=92.3076923076923\n",
            "Epoch 800/1000: loss = 0.03894775529894541: Test accuracy=92.3076923076923\n",
            "Epoch 820/1000: loss = 0.038932399043824735: Test accuracy=92.3076923076923\n",
            "Epoch 840/1000: loss = 0.038916771945659345: Test accuracy=92.3076923076923\n",
            "Epoch 860/1000: loss = 0.03890094371381052: Test accuracy=92.3076923076923\n",
            "Epoch 880/1000: loss = 0.03888497485615782: Test accuracy=92.3076923076923\n",
            "Epoch 900/1000: loss = 0.03886891786272046: Test accuracy=92.3076923076923\n",
            "Epoch 920/1000: loss = 0.03885281058716185: Test accuracy=92.3076923076923\n",
            "Epoch 940/1000: loss = 0.03883670912654322: Test accuracy=92.3076923076923\n",
            "Epoch 960/1000: loss = 0.03882063917833848: Test accuracy=92.3076923076923\n",
            "Epoch 980/1000: loss = 0.03880462965445624: Test accuracy=92.3076923076923\n",
            "Train accuracy:97.10843373493977 - Test accuracy: 92.3076923076923\n"
          ]
        }
      ]
    },
    {
      "cell_type": "code",
      "source": [
        "plt.figure()\n",
        "plt.plot(history['train_loss'], color='b', label='Train Loss')\n",
        "plt.plot(history['test_loss'], color='r', label='Test loss')\n",
        "plt.legend()\n",
        "plt.show()"
      ],
      "metadata": {
        "colab": {
          "base_uri": "https://localhost:8080/",
          "height": 265
        },
        "id": "QHkP_zusaRHn",
        "outputId": "26ad9b17-9f46-4984-8d5e-d896c47cef78"
      },
      "execution_count": null,
      "outputs": [
        {
          "output_type": "display_data",
          "data": {
            "text/plain": [
              "<Figure size 432x288 with 1 Axes>"
            ],
            "image/png": "[encoded data removed]"
          },
          "metadata": {
            "needs_background": "light"
          }
        }
      ]
    },
    {
      "cell_type": "markdown",
      "source": [
        "##Learning rate de lr=0.000001"
      ],
      "metadata": {
        "id": "YXlT1HQvchsE"
      }
    },
    {
      "cell_type": "code",
      "source": [
        "net = NetworkReLU(lr=0.00001)\n",
        "history = net.train(X_train, Y_train, 20, 1000, X_test, Y_test)\n",
        "print('Train accuracy:{} - Test accuracy: {}'.format(net.evaluate(X_train, Y_train, 20), net.evaluate(X_test, Y_test, 20)))"
      ],
      "metadata": {
        "colab": {
          "base_uri": "https://localhost:8080/"
        },
        "id": "tXZCAkE2cl4W",
        "outputId": "04783f6a-57e0-40db-c565-1e3ab329325a"
      },
      "execution_count": null,
      "outputs": [
        {
          "output_type": "stream",
          "name": "stdout",
          "text": [
            "Epoch 0/1000: loss = 0.14601863332731585: Test accuracy=61.53846153846154\n",
            "Epoch 20/1000: loss = 0.14601271762259: Test accuracy=61.53846153846154\n",
            "Epoch 40/1000: loss = 0.1460068017271316: Test accuracy=61.53846153846154\n",
            "Epoch 60/1000: loss = 0.14600088564092698: Test accuracy=61.53846153846154\n",
            "Epoch 80/1000: loss = 0.14599496936396214: Test accuracy=61.53846153846154\n",
            "Epoch 100/1000: loss = 0.14598905289622296: Test accuracy=61.53846153846154\n",
            "Epoch 120/1000: loss = 0.14598313623769513: Test accuracy=61.53846153846154\n",
            "Epoch 140/1000: loss = 0.1459772193883638: Test accuracy=61.53846153846154\n",
            "Epoch 160/1000: loss = 0.14597130234821426: Test accuracy=61.53846153846154\n",
            "Epoch 180/1000: loss = 0.1459653851172314: Test accuracy=61.53846153846154\n",
            "Epoch 200/1000: loss = 0.14595946769539975: Test accuracy=61.53846153846154\n",
            "Epoch 220/1000: loss = 0.14595355008270383: Test accuracy=61.53846153846154\n",
            "Epoch 240/1000: loss = 0.14594763227912771: Test accuracy=61.53846153846154\n",
            "Epoch 260/1000: loss = 0.14594171428465538: Test accuracy=61.53846153846154\n",
            "Epoch 280/1000: loss = 0.14593579609927051: Test accuracy=61.53846153846154\n",
            "Epoch 300/1000: loss = 0.14592987772295654: Test accuracy=61.53846153846154\n",
            "Epoch 320/1000: loss = 0.1459239591556967: Test accuracy=61.53846153846154\n",
            "Epoch 340/1000: loss = 0.14591804039747386: Test accuracy=61.53846153846154\n",
            "Epoch 360/1000: loss = 0.1459121214482709: Test accuracy=61.53846153846154\n",
            "Epoch 380/1000: loss = 0.14590620230807022: Test accuracy=61.53846153846154\n",
            "Epoch 400/1000: loss = 0.14590028297685398: Test accuracy=61.53846153846154\n",
            "Epoch 420/1000: loss = 0.14589436345460435: Test accuracy=61.53846153846154\n",
            "Epoch 440/1000: loss = 0.14588844374130305: Test accuracy=61.53846153846154\n",
            "Epoch 460/1000: loss = 0.1458825238369315: Test accuracy=61.53846153846154\n",
            "Epoch 480/1000: loss = 0.14587660374147113: Test accuracy=61.53846153846154\n",
            "Epoch 500/1000: loss = 0.1458706834549029: Test accuracy=61.53846153846154\n",
            "Epoch 520/1000: loss = 0.14586476297720755: Test accuracy=61.53846153846154\n",
            "Epoch 540/1000: loss = 0.14585884230836574: Test accuracy=61.53846153846154\n",
            "Epoch 560/1000: loss = 0.14585292144835768: Test accuracy=61.53846153846154\n",
            "Epoch 580/1000: loss = 0.14584700039716356: Test accuracy=61.53846153846154\n",
            "Epoch 600/1000: loss = 0.14584107915476308: Test accuracy=61.53846153846154\n",
            "Epoch 620/1000: loss = 0.1458351577211359: Test accuracy=61.53846153846154\n",
            "Epoch 640/1000: loss = 0.1458292360962614: Test accuracy=61.53846153846154\n",
            "Epoch 660/1000: loss = 0.14582331428011858: Test accuracy=61.53846153846154\n",
            "Epoch 680/1000: loss = 0.1458173922726863: Test accuracy=61.53846153846154\n",
            "Epoch 700/1000: loss = 0.14581147007394324: Test accuracy=61.53846153846154\n",
            "Epoch 720/1000: loss = 0.1458055476838678: Test accuracy=61.53846153846154\n",
            "Epoch 740/1000: loss = 0.14579962510243802: Test accuracy=61.53846153846154\n",
            "Epoch 760/1000: loss = 0.14579370232963174: Test accuracy=61.53846153846154\n",
            "Epoch 780/1000: loss = 0.14578777936542672: Test accuracy=61.53846153846154\n",
            "Epoch 800/1000: loss = 0.14578185620980028: Test accuracy=61.53846153846154\n",
            "Epoch 820/1000: loss = 0.1457759328627296: Test accuracy=61.53846153846154\n",
            "Epoch 840/1000: loss = 0.14577000932419154: Test accuracy=61.53846153846154\n",
            "Epoch 860/1000: loss = 0.14576408559416276: Test accuracy=61.53846153846154\n",
            "Epoch 880/1000: loss = 0.14575816167261973: Test accuracy=61.53846153846154\n",
            "Epoch 900/1000: loss = 0.14575223755953862: Test accuracy=61.53846153846154\n",
            "Epoch 920/1000: loss = 0.14574631325489526: Test accuracy=61.53846153846154\n",
            "Epoch 940/1000: loss = 0.1457403887586654: Test accuracy=61.53846153846154\n",
            "Epoch 960/1000: loss = 0.1457344640708245: Test accuracy=61.53846153846154\n",
            "Epoch 980/1000: loss = 0.1457285391913476: Test accuracy=61.53846153846154\n",
            "Train accuracy:61.44578313253012 - Test accuracy: 61.53846153846154\n"
          ]
        }
      ]
    },
    {
      "cell_type": "code",
      "source": [
        "plt.figure()\n",
        "plt.plot(history['train_loss'], color='b', label='Train Loss')\n",
        "plt.plot(history['test_loss'], color='r', label='Test loss')\n",
        "plt.legend()\n",
        "plt.show()"
      ],
      "metadata": {
        "id": "bn4z3E93djag",
        "outputId": "ad15f796-613c-4f2f-cf4e-12c6388d9c16",
        "colab": {
          "base_uri": "https://localhost:8080/",
          "height": 265
        }
      },
      "execution_count": null,
      "outputs": [
        {
          "output_type": "display_data",
          "data": {
            "text/plain": [
              "<Figure size 432x288 with 1 Axes>"
            ],
            "image/png": "[encoded data removed]"
          },
          "metadata": {
            "needs_background": "light"
          }
        }
      ]
    },
    {
      "cell_type": "code",
      "source": [
        "net = NetworkReLU(lr=100)\n",
        "history = net.train(X_train, Y_train, 20, 1000, X_test, Y_test)\n",
        "print('Train accuracy:{} - Test accuracy: {}'.format(net.evaluate(X_train, Y_train, 20), net.evaluate(X_test, Y_test, 20)))"
      ],
      "metadata": {
        "colab": {
          "base_uri": "https://localhost:8080/"
        },
        "id": "veCSEX9Rh13Z",
        "outputId": "8d055f82-4588-4859-d603-c78d56603eb0"
      },
      "execution_count": null,
      "outputs": [
        {
          "output_type": "stream",
          "name": "stdout",
          "text": [
            "Epoch 0/1000: loss = 0.1923074825030147: Test accuracy=61.53846153846154\n",
            "Epoch 20/1000: loss = 0.19230743898717786: Test accuracy=61.53846153846154\n",
            "Epoch 40/1000: loss = 0.19230737334282555: Test accuracy=61.53846153846154\n",
            "Epoch 60/1000: loss = 0.19230726323989447: Test accuracy=61.53846153846154\n",
            "Epoch 80/1000: loss = 0.19230704156369216: Test accuracy=61.53846153846154\n",
            "Epoch 100/1000: loss = 0.1923063745833865: Test accuracy=61.53846153846154\n",
            "Epoch 120/1000: loss = 0.1922627347597969: Test accuracy=61.53846153846154\n",
            "Epoch 140/1000: loss = 0.3076922883083964: Test accuracy=38.46153846153846\n",
            "Epoch 160/1000: loss = 0.30769227545106953: Test accuracy=38.46153846153846\n",
            "Epoch 180/1000: loss = 0.30769225339586004: Test accuracy=38.46153846153846\n",
            "Epoch 200/1000: loss = 0.3076922063516294: Test accuracy=38.46153846153846\n",
            "Epoch 220/1000: loss = 0.3076920345453891: Test accuracy=38.46153846153846\n",
            "Epoch 240/1000: loss = 0.19230769230769232: Test accuracy=61.53846153846154\n",
            "Epoch 260/1000: loss = 0.19230769230769232: Test accuracy=61.53846153846154\n",
            "Epoch 280/1000: loss = 0.19230769230769232: Test accuracy=61.53846153846154\n",
            "Epoch 300/1000: loss = 0.19230769230769232: Test accuracy=61.53846153846154\n",
            "Epoch 320/1000: loss = 0.19230769230769232: Test accuracy=61.53846153846154\n",
            "Epoch 340/1000: loss = 0.19230769230769232: Test accuracy=61.53846153846154\n",
            "Epoch 360/1000: loss = 0.19230769230769232: Test accuracy=61.53846153846154\n",
            "Epoch 380/1000: loss = 0.19230769230769232: Test accuracy=61.53846153846154\n",
            "Epoch 400/1000: loss = 0.19230769230769232: Test accuracy=61.53846153846154\n",
            "Epoch 420/1000: loss = 0.19230769230769232: Test accuracy=61.53846153846154\n",
            "Epoch 440/1000: loss = 0.19230769230769232: Test accuracy=61.53846153846154\n",
            "Epoch 460/1000: loss = 0.19230769230769232: Test accuracy=61.53846153846154\n",
            "Epoch 480/1000: loss = 0.19230769230769232: Test accuracy=61.53846153846154\n",
            "Epoch 500/1000: loss = 0.19230769230769232: Test accuracy=61.53846153846154\n",
            "Epoch 520/1000: loss = 0.19230769230769232: Test accuracy=61.53846153846154\n",
            "Epoch 540/1000: loss = 0.19230769230769232: Test accuracy=61.53846153846154\n",
            "Epoch 560/1000: loss = 0.19230769230769232: Test accuracy=61.53846153846154\n",
            "Epoch 580/1000: loss = 0.19230769230769232: Test accuracy=61.53846153846154\n",
            "Epoch 600/1000: loss = 0.19230769230769232: Test accuracy=61.53846153846154\n",
            "Epoch 620/1000: loss = 0.19230769230769232: Test accuracy=61.53846153846154\n",
            "Epoch 640/1000: loss = 0.19230769230769232: Test accuracy=61.53846153846154\n",
            "Epoch 660/1000: loss = 0.19230769230769232: Test accuracy=61.53846153846154\n",
            "Epoch 680/1000: loss = 0.19230769230769232: Test accuracy=61.53846153846154\n",
            "Epoch 700/1000: loss = 0.19230769230769232: Test accuracy=61.53846153846154\n",
            "Epoch 720/1000: loss = 0.19230769230769232: Test accuracy=61.53846153846154\n",
            "Epoch 740/1000: loss = 0.19230769230769232: Test accuracy=61.53846153846154\n",
            "Epoch 760/1000: loss = 0.19230769230769232: Test accuracy=61.53846153846154\n",
            "Epoch 780/1000: loss = 0.19230769230769232: Test accuracy=61.53846153846154\n",
            "Epoch 800/1000: loss = 0.19230769230769232: Test accuracy=61.53846153846154\n",
            "Epoch 820/1000: loss = 0.19230769230769232: Test accuracy=61.53846153846154\n",
            "Epoch 840/1000: loss = 0.19230769230769232: Test accuracy=61.53846153846154\n",
            "Epoch 860/1000: loss = 0.19230769230769232: Test accuracy=61.53846153846154\n",
            "Epoch 880/1000: loss = 0.19230769230769232: Test accuracy=61.53846153846154\n",
            "Epoch 900/1000: loss = 0.19230769230769232: Test accuracy=61.53846153846154\n",
            "Epoch 920/1000: loss = 0.19230769230769232: Test accuracy=61.53846153846154\n",
            "Epoch 940/1000: loss = 0.19230769230769232: Test accuracy=61.53846153846154\n",
            "Epoch 960/1000: loss = 0.19230769230769232: Test accuracy=61.53846153846154\n",
            "Epoch 980/1000: loss = 0.19230769230769232: Test accuracy=61.53846153846154\n",
            "Train accuracy:61.44578313253012 - Test accuracy: 61.53846153846154\n"
          ]
        }
      ]
    },
    {
      "cell_type": "code",
      "source": [
        "plt.figure()\n",
        "plt.plot(history['train_loss'], color='b', label='Train Loss')\n",
        "plt.plot(history['test_loss'], color='r', label='Test loss')\n",
        "plt.legend()\n",
        "plt.show()"
      ],
      "metadata": {
        "colab": {
          "base_uri": "https://localhost:8080/",
          "height": 265
        },
        "id": "Ru7rtPj-h9Nr",
        "outputId": "6dbf66eb-2054-4a6b-ed4d-192d2d3703fb"
      },
      "execution_count": null,
      "outputs": [
        {
          "output_type": "display_data",
          "data": {
            "text/plain": [
              "<Figure size 432x288 with 1 Axes>"
            ],
            "image/png": "[encoded data removed]"
          },
          "metadata": {
            "needs_background": "light"
          }
        }
      ]
    },
    {
      "cell_type": "markdown",
      "source": [
        "##Comentarios parte 3\n",
        "Es posible notar que el learning rate determinta la velocidad con que el algoritmo 'converge'. Es decir, un learning rate pequeño hará con los pasos para acercarse al mínimo serán lentos y por tanto serán necesarios más épocas (vemos en el caso de un lr=0.000001 que las pérdidas son pequeñas y que el accuracy mejora muy lento), mientras que un learning rate alto hará que se alcance el mínimo más rápido. Sin embargo, si el learning es demasiado alto, se corre el riesgo de que el algoritmo no pueda encontrar nunca el mínimo y salte al rededor de este.\n",
        "\n",
        "Se puede ver que en el primer caso (lr=0.5) el mínimo se alcanza, en cambio en el caso de un learning rate de 100, el algoritmo no alcanza el mínimo."
      ],
      "metadata": {
        "id": "mOkYuyfjVYJV"
      }
    },
    {
      "cell_type": "markdown",
      "source": [
        "# **Parte 4**\n",
        "Implementar el algoritmo de gradiente descendente estocástico de manera que los mini-batches se generen de manera aleatoria antes de cada época. Qué resultados obtienes? Discute los resultados. (Hay que explicar el fenómeno observado, dando su opinión de porqué sucede).\n",
        "\n",
        "Graficar la función de loss con respecto a las épocas y comparar con la función de loss de la Parte 1."
      ],
      "metadata": {
        "id": "E9KM20PxqaHU"
      }
    },
    {
      "cell_type": "code",
      "source": [
        "#Class for the neural network\n",
        "class NetworkReLU_rand:\n",
        "    def __init__(self,lr):\n",
        "        \n",
        "      #The layers are in a list\n",
        "      # We create a three-layer network with sigmoid neurons\n",
        "      self.layers = [] \n",
        "      self.layers.append(Linear(num_inputs=16, num_outputs=5, learning_rate=lr, name='fc1'))\n",
        "      self.layers.append(ReLU())\n",
        "      self.layers.append(Linear(num_inputs=5, num_outputs=1, learning_rate=lr, name='fc3')) \n",
        "      self.layers.append(Sigmoid())\n",
        "      self.num_layers = len(self.layers)\n",
        "    \n",
        "    #Implements the training algorithm with mini-batch SGD\n",
        "    def train(self, training_data, training_label, epoch, test_data, test_label,verbose=False):\n",
        "      #History values of losses\n",
        "      train_loss = []\n",
        "      test_loss = []\n",
        "        \n",
        "      #Main outer loop\n",
        "      for e in range(epoch):\n",
        "        # Perform a training epoch\n",
        "        loss = 0\n",
        "\n",
        "        # Tamaño del minibatch\n",
        "        batch_size=np.random.randint(1,training_data.shape[0]+1)\n",
        "      \n",
        "        #Iterate over each batch\n",
        "        for batch_index in range(0, training_data.shape[0], batch_size):\n",
        "          #We need to identify whether a batch is complete or a batch is incomplete because it is the last one \n",
        "          if batch_index+batch_size < training_data.shape[0]:\n",
        "            data = training_data[batch_index:batch_index+batch_size]\n",
        "            label = training_label[batch_index:batch_index+batch_size]\n",
        "          else:\n",
        "            data = training_data[batch_index:training_data.shape[0]]\n",
        "            label = training_label[batch_index:training_label.shape[0]]\n",
        "    \n",
        "          acc = 0\n",
        "                \n",
        "          #Forward pass - iterate over the list of layers\n",
        "          x = data\n",
        "          for l in range(self.num_layers):\n",
        "            output = self.layers[l].forward(x)\n",
        "            x = output\n",
        "\n",
        "          #The first error is the derivative of the loss wrt. the NN output          \n",
        "          dy = output - label\n",
        "          loss += mse(output, label) #Compute the loss\n",
        "\n",
        "          #Backpropagate\n",
        "          for l in range(self.num_layers-1, -1, -1):\n",
        "            dout = self.layers[l].backward(dy)\n",
        "            dy = dout\n",
        "                    \n",
        "        #End of an epoch\n",
        "        loss /= training_data.shape[0]\n",
        "        train_loss.append(loss)\n",
        "                                  \n",
        "        #Test after one epoch\n",
        "        loss = 0\n",
        "        outputs = []\n",
        "            \n",
        "        correct = 0\n",
        "        for batch_index in range(0, test_data.shape[0], batch_size):\n",
        "          if batch_index+batch_size < test_data.shape[0]:\n",
        "            data = test_data[batch_index:batch_index+batch_size]\n",
        "            label = test_label[batch_index:batch_index+batch_size]\n",
        "          else:\n",
        "            data = test_data[batch_index:test_data.shape[0]]\n",
        "            label = test_label[batch_index:test_label.shape[0]]\n",
        "                                \n",
        "          acc = 0\n",
        "                \n",
        "          #Forward pass\n",
        "          x = data\n",
        "          for l in range(self.num_layers):\n",
        "            output = self.layers[l].forward(x)\n",
        "            x = output\n",
        "                \n",
        "          loss += mse(output, label)\n",
        "                \n",
        "          test_output = (output >= 0.5)\n",
        "          #Compare the output of the network with the correct labels\n",
        "          correct += (test_output == label).sum()\n",
        "            \n",
        "        loss /= test_data.shape[0]\n",
        "        test_loss.append(loss)\n",
        "            \n",
        "        if verbose:\n",
        "          print('Epoch {}/{}: loss = {}: Test accuracy={}: Minibatch size = {}'.format(e, epoch, loss, (100*correct)/test_label.shape[0], batch_size))\n",
        "        else:\n",
        "          if e % 20 == 0:\n",
        "            print('Epoch {}/{}: loss = {}: Test accuracy={}: Minibatch size = {}'.format(e, epoch, loss, (100*correct)/test_label.shape[0], batch_size))\n",
        "                    \n",
        "      return dict({'train_loss': train_loss, 'test_loss':test_loss})\n",
        "    \n",
        "    def evaluate(self, data, label, batch_size):\n",
        "      correct = 0\n",
        "      for batch_index in range(0, data.shape[0], batch_size):\n",
        "        if batch_index+batch_size < data.shape[0]:\n",
        "          ndata = data[batch_index:batch_index+batch_size]\n",
        "          nlabel = label[batch_index:batch_index+batch_size]\n",
        "        else:\n",
        "          ndata = data[batch_index:data.shape[0]]\n",
        "          nlabel = label[batch_index:label.shape[0]]\n",
        "            \n",
        "        x = ndata\n",
        "        for l in range(self.num_layers):\n",
        "          output = self.layers[l].forward(x)\n",
        "          x = output\n",
        "            \n",
        "        test_output = (output >= 0.5)\n",
        "        #Compare the output of the network with the correct labels\n",
        "        correct += (test_output == nlabel).sum()\n",
        "        \n",
        "      return (100*correct)/label.shape[0]\n",
        "\n",
        "    def predict(self, data, batch_size):\n",
        "      output_pred = []\n",
        "\n",
        "      for batch_index in range(0, data.shape[0], batch_size):\n",
        "        if batch_index+batch_size < data.shape[0]:\n",
        "          ndata = data[batch_index:batch_index+batch_size]\n",
        "        else:\n",
        "          ndata = data[batch_index:data.shape[0]]\n",
        "                    \n",
        "        x = ndata\n",
        "        for l in range(self.num_layers):\n",
        "          output = self.layers[l].forward(x)\n",
        "          x = output\n",
        "                    \n",
        "        test_output = (output >= 0.5)\n",
        "        #test_output = np.argmax(output, axis=1)\n",
        "        output_pred.append(test_output)\n",
        "      \n",
        "      return np.vstack(output_pred)"
      ],
      "metadata": {
        "id": "g883w9rbbGu3"
      },
      "execution_count": null,
      "outputs": []
    },
    {
      "cell_type": "code",
      "source": [
        "start_time = time.time()\n",
        "net = NetworkReLU_rand(lr=0.01)\n",
        "history = net.train(X_train, Y_train, 1000, X_test, Y_test)\n",
        "print('Train accuracy:{} - Test accuracy: {}'.format(net.evaluate(X_train, Y_train, 20), net.evaluate(X_test, Y_test, 20)))\n",
        "print(\"--- %s seconds ---\" % (time.time() - start_time))"
      ],
      "metadata": {
        "colab": {
          "base_uri": "https://localhost:8080/"
        },
        "id": "zTXCYfR1hYFR",
        "outputId": "063ffda9-4957-4466-dd8d-5d40a7065ecb"
      },
      "execution_count": null,
      "outputs": [
        {
          "output_type": "stream",
          "name": "stdout",
          "text": [
            "Epoch 0/1000: loss = 0.15362783746152847: Test accuracy=61.53846153846154: Minibatch size = 34\n",
            "Epoch 20/1000: loss = 0.14680432568391297: Test accuracy=61.53846153846154: Minibatch size = 159\n",
            "Epoch 40/1000: loss = 0.14575713991455158: Test accuracy=61.53846153846154: Minibatch size = 277\n",
            "Epoch 60/1000: loss = 0.14449174048976637: Test accuracy=61.53846153846154: Minibatch size = 124\n",
            "Epoch 80/1000: loss = 0.14272672724659186: Test accuracy=61.53846153846154: Minibatch size = 259\n",
            "Epoch 100/1000: loss = 0.1414253745837222: Test accuracy=64.42307692307692: Minibatch size = 360\n",
            "Epoch 120/1000: loss = 0.13917542460086968: Test accuracy=69.23076923076923: Minibatch size = 72\n",
            "Epoch 140/1000: loss = 0.1377977777421297: Test accuracy=71.15384615384616: Minibatch size = 141\n",
            "Epoch 160/1000: loss = 0.1362810997861596: Test accuracy=73.07692307692308: Minibatch size = 143\n",
            "Epoch 180/1000: loss = 0.1348261340981143: Test accuracy=73.07692307692308: Minibatch size = 152\n",
            "Epoch 200/1000: loss = 0.1331878229445455: Test accuracy=73.07692307692308: Minibatch size = 385\n",
            "Epoch 220/1000: loss = 0.13184552348704798: Test accuracy=73.07692307692308: Minibatch size = 336\n",
            "Epoch 240/1000: loss = 0.13017555490023308: Test accuracy=73.07692307692308: Minibatch size = 402\n",
            "Epoch 260/1000: loss = 0.128031664664178: Test accuracy=73.07692307692308: Minibatch size = 305\n",
            "Epoch 280/1000: loss = 0.10806585095591446: Test accuracy=73.07692307692308: Minibatch size = 167\n",
            "Epoch 300/1000: loss = 0.10129439275359882: Test accuracy=73.07692307692308: Minibatch size = 288\n",
            "Epoch 320/1000: loss = 0.09300259316859663: Test accuracy=74.03846153846153: Minibatch size = 315\n",
            "Epoch 340/1000: loss = 0.0851865861837309: Test accuracy=72.11538461538461: Minibatch size = 62\n",
            "Epoch 360/1000: loss = 0.07887895696182015: Test accuracy=75.0: Minibatch size = 316\n",
            "Epoch 380/1000: loss = 0.07772394688511348: Test accuracy=75.0: Minibatch size = 50\n",
            "Epoch 400/1000: loss = 0.07697473371670771: Test accuracy=75.96153846153847: Minibatch size = 116\n",
            "Epoch 420/1000: loss = 0.07585781011128759: Test accuracy=77.88461538461539: Minibatch size = 119\n",
            "Epoch 440/1000: loss = 0.07434399542193261: Test accuracy=84.61538461538461: Minibatch size = 10\n",
            "Epoch 460/1000: loss = 0.07371784688775744: Test accuracy=84.61538461538461: Minibatch size = 236\n",
            "Epoch 480/1000: loss = 0.07203469603142719: Test accuracy=84.61538461538461: Minibatch size = 368\n",
            "Epoch 500/1000: loss = 0.07051322670530367: Test accuracy=86.53846153846153: Minibatch size = 308\n",
            "Epoch 520/1000: loss = 0.06970477240354589: Test accuracy=87.5: Minibatch size = 336\n",
            "Epoch 540/1000: loss = 0.06892939090500752: Test accuracy=87.5: Minibatch size = 45\n",
            "Epoch 560/1000: loss = 0.06803591450505754: Test accuracy=86.53846153846153: Minibatch size = 181\n",
            "Epoch 580/1000: loss = 0.06528350886047832: Test accuracy=87.5: Minibatch size = 246\n",
            "Epoch 600/1000: loss = 0.0627678350912597: Test accuracy=90.38461538461539: Minibatch size = 39\n",
            "Epoch 620/1000: loss = 0.06144383490388477: Test accuracy=89.42307692307692: Minibatch size = 240\n",
            "Epoch 640/1000: loss = 0.06050024295061481: Test accuracy=90.38461538461539: Minibatch size = 290\n",
            "Epoch 660/1000: loss = 0.05968467004244043: Test accuracy=89.42307692307692: Minibatch size = 358\n",
            "Epoch 680/1000: loss = 0.05891543560700972: Test accuracy=89.42307692307692: Minibatch size = 153\n",
            "Epoch 700/1000: loss = 0.05488706035912243: Test accuracy=88.46153846153847: Minibatch size = 25\n",
            "Epoch 720/1000: loss = 0.05447419860215394: Test accuracy=88.46153846153847: Minibatch size = 50\n",
            "Epoch 740/1000: loss = 0.052575902011408035: Test accuracy=86.53846153846153: Minibatch size = 10\n",
            "Epoch 760/1000: loss = 0.05179713818302763: Test accuracy=86.53846153846153: Minibatch size = 104\n",
            "Epoch 780/1000: loss = 0.05069002650863305: Test accuracy=86.53846153846153: Minibatch size = 185\n",
            "Epoch 800/1000: loss = 0.05011388186064692: Test accuracy=88.46153846153847: Minibatch size = 75\n",
            "Epoch 820/1000: loss = 0.049672252598812645: Test accuracy=88.46153846153847: Minibatch size = 374\n",
            "Epoch 840/1000: loss = 0.04841324785224478: Test accuracy=89.42307692307692: Minibatch size = 379\n",
            "Epoch 860/1000: loss = 0.048156545274203724: Test accuracy=89.42307692307692: Minibatch size = 149\n",
            "Epoch 880/1000: loss = 0.047513913244171244: Test accuracy=89.42307692307692: Minibatch size = 166\n",
            "Epoch 900/1000: loss = 0.047005294473772566: Test accuracy=89.42307692307692: Minibatch size = 161\n",
            "Epoch 920/1000: loss = 0.04670657302196639: Test accuracy=89.42307692307692: Minibatch size = 313\n",
            "Epoch 940/1000: loss = 0.046296443819702895: Test accuracy=89.42307692307692: Minibatch size = 76\n",
            "Epoch 960/1000: loss = 0.04594815068700986: Test accuracy=89.42307692307692: Minibatch size = 108\n",
            "Epoch 980/1000: loss = 0.04496565542469195: Test accuracy=90.38461538461539: Minibatch size = 68\n",
            "Train accuracy:92.04819277108433 - Test accuracy: 90.38461538461539\n",
            "--- 1.057206153869629 seconds ---\n"
          ]
        }
      ]
    },
    {
      "cell_type": "code",
      "source": [
        "plt.figure()\n",
        "plt.plot(history['train_loss'], color='b', label='Train Loss')\n",
        "plt.plot(history['test_loss'], color='r', label='Test loss')\n",
        "plt.legend()\n",
        "plt.show()"
      ],
      "metadata": {
        "colab": {
          "base_uri": "https://localhost:8080/",
          "height": 265
        },
        "id": "_Ft2KUilj1qg",
        "outputId": "7ec92e39-0652-4645-d8bb-b65dd540dc84"
      },
      "execution_count": null,
      "outputs": [
        {
          "output_type": "display_data",
          "data": {
            "text/plain": [
              "<Figure size 432x288 with 1 Axes>"
            ],
            "image/png": "[encoded data removed]"
          },
          "metadata": {
            "needs_background": "light"
          }
        }
      ]
    },
    {
      "cell_type": "markdown",
      "source": [
        "##Comentarios parte 4\n",
        "\n",
        "Al comparar con el gráfico de la parte 1, es posible notar que se necesitan un número mayor de epocas para alcanzar el mínimo. Además es posible notar que el grafico de la parte 4 da 'saltos', lo cual se puede asociar al cambio del tamaño de los batch en cada iteración.\n",
        "\n",
        "Si bien el algoritmo converge más lento en término de las epocas, es posible notar que en este caso toma un menor tiempo de computo (al rededor de 1 segundo), lo cual, el comparar con los casos de la parte 2 en los cuales se usaba un tamaño constante. entrega la mejor opción en el trade off tiempo de computo/accuracy (pues el accuracy es casi del 90%). Esto se debe a que una inicialización aleatoria de los batch incluye rapidez (caundo el batch es grande) y a la vez exactitud (cuando el batch es pequeño).\n",
        "\n",
        "\n"
      ],
      "metadata": {
        "id": "9X-mh9aKj-xQ"
      }
    }
  ]
}